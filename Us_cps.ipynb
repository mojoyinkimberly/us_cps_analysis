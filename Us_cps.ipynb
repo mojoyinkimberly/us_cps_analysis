{
 "cells": [
  {
   "cell_type": "markdown",
   "id": "2a2a52af",
   "metadata": {},
   "source": [
    "### importing the necessary libraries"
   ]
  },
  {
   "cell_type": "code",
   "execution_count": 1,
   "id": "92b518a8",
   "metadata": {},
   "outputs": [],
   "source": [
    "import pyspark"
   ]
  },
  {
   "cell_type": "code",
   "execution_count": 161,
   "id": "3ad0262e",
   "metadata": {},
   "outputs": [],
   "source": [
    "from pyspark.sql import SparkSession\n",
    "from pyspark.sql.functions import when, lit, col\n",
    "from pyspark.sql import functions as func\n",
    "from pyspark.sql.functions import col, isnan, when, count\n",
    "from functools import reduce\n",
    "from pyspark.sql.types import StructType, StructField, StringType, LongType, DateType, IntegerType"
   ]
  },
  {
   "cell_type": "markdown",
   "id": "cfbe76c0",
   "metadata": {},
   "source": [
    "### creating sparksession object"
   ]
  },
  {
   "cell_type": "code",
   "execution_count": 162,
   "id": "23a2ef68",
   "metadata": {},
   "outputs": [],
   "source": [
    "spark =SparkSession.builder.appName('DecemberCps').getOrCreate()"
   ]
  },
  {
   "cell_type": "markdown",
   "id": "b0bc5cee",
   "metadata": {},
   "source": [
    "### reading the dataset into the environment "
   ]
  },
  {
   "cell_type": "code",
   "execution_count": 163,
   "id": "a64a1d43",
   "metadata": {},
   "outputs": [],
   "source": [
    "df_cps = spark.read.csv(\"dec17pub.dat\")"
   ]
  },
  {
   "cell_type": "code",
   "execution_count": 164,
   "id": "12870984",
   "metadata": {
    "scrolled": false
   },
   "outputs": [
    {
     "name": "stdout",
     "output_type": "stream",
     "text": [
      "+--------------------+\n",
      "|                 _c0|\n",
      "+--------------------+\n",
      "|00000479511071912...|\n",
      "|00000479511071912...|\n",
      "|00007169100494112...|\n",
      "|00007169100494112...|\n",
      "|00007169100494112...|\n",
      "|00011017798798612...|\n",
      "|00011017798798612...|\n",
      "|00011020659338112...|\n",
      "|00011028481568012...|\n",
      "|00011032785646912...|\n",
      "+--------------------+\n",
      "only showing top 10 rows\n",
      "\n"
     ]
    }
   ],
   "source": [
    "df_cps.show(10)"
   ]
  },
  {
   "cell_type": "markdown",
   "id": "621799ae",
   "metadata": {},
   "source": [
    "### extracting the required columns from the dataset using the data dictionary file"
   ]
  },
  {
   "cell_type": "code",
   "execution_count": 165,
   "id": "7b34ecda",
   "metadata": {},
   "outputs": [],
   "source": [
    "df_cps1 = df_cps.select(func.concat_ws(\"\",func.substring(\"_c0\",1,15),func.substring(\"_c0\", 71,5)).alias(\"householdId\"),\\\n",
    "                                      func.concat_ws(\"/\",func.substring(\"_c0\",18,4),func.date_format(func.to_date(func.substring(\"_c0\",16,2), \"MM\"),\"MMM\")).alias(\"interviewTime\"),\\\n",
    "                                      func.substring(\"_c0\", 24,3).alias(\"finalOutcome\"),\\\n",
    "                                      func.substring(\"_c0\", 31,2).alias(\"housingType\"),\\\n",
    "                                      func.substring(\"_c0\", 61,2).alias(\"householdType\"),\\\n",
    "                                      func.substring(\"_c0\", 33,2).alias(\"telephoneInHousehold\"),\\\n",
    "                                      func.substring(\"_c0\", 35,2).alias(\"accessToTelephoneElsewhere\"),\\\n",
    "                                      func.substring(\"_c0\", 37,2).alias(\"acceptableTelephoneInterview\"),\\\n",
    "                                      func.substring(\"_c0\", 65,2).alias(\"interviewType\"),\\\n",
    "                                      func.substring(\"_c0\", 39,2).alias(\"familyIncomeRange\"),\\\n",
    "                                      func.substring(\"_c0\", 91,1).alias(\"geoDivision\"),\\\n",
    "                                      func.substring(\"_c0\", 139,2).alias(\"race\"))            "
   ]
  },
  {
   "cell_type": "markdown",
   "id": "9a17079b",
   "metadata": {},
   "source": [
    "### showing ten(10) samples "
   ]
  },
  {
   "cell_type": "code",
   "execution_count": 166,
   "id": "6dc146ae",
   "metadata": {},
   "outputs": [
    {
     "name": "stdout",
     "output_type": "stream",
     "text": [
      "+--------------------+-------------+------------+-----------+-------------+--------------------+--------------------------+----------------------------+-------------+-----------------+-----------+----+\n",
      "|         householdId|interviewTime|finalOutcome|housingType|householdType|telephoneInHousehold|accessToTelephoneElsewhere|acceptableTelephoneInterview|interviewType|familyIncomeRange|geoDivision|race|\n",
      "+--------------------+-------------+------------+-----------+-------------+--------------------+--------------------------+----------------------------+-------------+-----------------+-----------+----+\n",
      "|00000479511071906011|     2017/Dec|         201|          1|            1|                   1|                        -1|                           1|            2|                9|          6|   1|\n",
      "|00000479511071906011|     2017/Dec|         201|          1|            1|                   1|                        -1|                           1|            2|                9|          6|   1|\n",
      "|00007169100494106111|     2017/Dec|         201|          1|            1|                   1|                        -1|                           1|            1|               11|          6|   1|\n",
      "|00007169100494106111|     2017/Dec|         201|          1|            1|                   1|                        -1|                           1|            1|               11|          6|   1|\n",
      "|00007169100494106111|     2017/Dec|         201|          1|            1|                   1|                        -1|                           1|            1|               11|          6|   1|\n",
      "|00011017798798608011|     2017/Dec|         201|          1|            1|                   1|                        -1|                           1|            1|               14|          6|   2|\n",
      "|00011017798798608011|     2017/Dec|         201|          1|            1|                   1|                        -1|                           1|            1|               14|          6|   2|\n",
      "|00011020659338108011|     2017/Dec|         213|          1|            0|                  -1|                        -1|                           0|            1|               -1|          6|  -1|\n",
      "|00011028481568008111|     2017/Dec|         201|          1|            7|                   1|                        -1|                           1|            1|                9|          6|   1|\n",
      "|00011032785646906111|     2017/Dec|         201|          1|            7|                   1|                        -1|                           1|            1|                5|          6|   2|\n",
      "+--------------------+-------------+------------+-----------+-------------+--------------------+--------------------------+----------------------------+-------------+-----------------+-----------+----+\n",
      "only showing top 10 rows\n",
      "\n"
     ]
    }
   ],
   "source": [
    "df_cps1.show(10)"
   ]
  },
  {
   "cell_type": "markdown",
   "id": "477a8e6f",
   "metadata": {},
   "source": [
    "### checking for number of rows in dataset"
   ]
  },
  {
   "cell_type": "code",
   "execution_count": 167,
   "id": "d2ff67f9",
   "metadata": {},
   "outputs": [
    {
     "data": {
      "text/plain": [
       "146456"
      ]
     },
     "execution_count": 167,
     "metadata": {},
     "output_type": "execute_result"
    }
   ],
   "source": [
    "df_cps1.count()\n"
   ]
  },
  {
   "cell_type": "markdown",
   "id": "e7395863",
   "metadata": {},
   "source": [
    "### printing schema of dataframe"
   ]
  },
  {
   "cell_type": "code",
   "execution_count": 168,
   "id": "b14c67ca",
   "metadata": {},
   "outputs": [
    {
     "name": "stdout",
     "output_type": "stream",
     "text": [
      "root\n",
      " |-- householdId: string (nullable = false)\n",
      " |-- interviewTime: string (nullable = false)\n",
      " |-- finalOutcome: string (nullable = true)\n",
      " |-- housingType: string (nullable = true)\n",
      " |-- householdType: string (nullable = true)\n",
      " |-- telephoneInHousehold: string (nullable = true)\n",
      " |-- accessToTelephoneElsewhere: string (nullable = true)\n",
      " |-- acceptableTelephoneInterview: string (nullable = true)\n",
      " |-- interviewType: string (nullable = true)\n",
      " |-- familyIncomeRange: string (nullable = true)\n",
      " |-- geoDivision: string (nullable = true)\n",
      " |-- race: string (nullable = true)\n",
      "\n"
     ]
    }
   ],
   "source": [
    "df_cps1.printSchema()"
   ]
  },
  {
   "cell_type": "markdown",
   "id": "db4db2bb",
   "metadata": {},
   "source": [
    "### checking for null values "
   ]
  },
  {
   "cell_type": "code",
   "execution_count": 169,
   "id": "f5d37939",
   "metadata": {},
   "outputs": [
    {
     "data": {
      "text/plain": [
       "Column<'((((((((((((householdId + 0) + interviewTime) + finalOutcome) + housingType) + householdType) + telephoneInHousehold) + accessToTelephoneElsewhere) + acceptableTelephoneInterview) + interviewType) + familyIncomeRange) + geoDivision) + race)'>"
      ]
     },
     "execution_count": 169,
     "metadata": {},
     "output_type": "execute_result"
    }
   ],
   "source": [
    "sum(df_cps1.where(reduce(lambda x, y: x | y, (func.col(x).isNull() for x in df_cps1.columns))))"
   ]
  },
  {
   "cell_type": "markdown",
   "id": "4ba6a0e3",
   "metadata": {},
   "source": [
    "### Checking for missing values"
   ]
  },
  {
   "cell_type": "code",
   "execution_count": 170,
   "id": "be1dfdd5",
   "metadata": {},
   "outputs": [
    {
     "name": "stderr",
     "output_type": "stream",
     "text": [
      "[Stage 467:>                                                        (0 + 4) / 4]\r"
     ]
    },
    {
     "name": "stdout",
     "output_type": "stream",
     "text": [
      "[Row(count(CASE WHEN (isnan(race) OR (race IS NULL)) THEN race END)=0)]\n"
     ]
    },
    {
     "name": "stderr",
     "output_type": "stream",
     "text": [
      "\r",
      "                                                                                \r"
     ]
    }
   ],
   "source": [
    "for x in df_cps1.columns:\n",
    "    list_of_values = df_cps1.select([count(when(isnan(x) | col(x).isNull(), x))]).collect()\n",
    "print(list_of_values)"
   ]
  },
  {
   "cell_type": "markdown",
   "id": "1c7741ed",
   "metadata": {},
   "source": [
    "## Decoding the required encoded columns"
   ]
  },
  {
   "cell_type": "markdown",
   "id": "c27c7e84",
   "metadata": {},
   "source": [
    "### decoding 'family income range'"
   ]
  },
  {
   "cell_type": "code",
   "execution_count": 171,
   "id": "431c2792",
   "metadata": {},
   "outputs": [],
   "source": [
    "new_df = df_cps1.withColumn(\"new_FamilyIncomeRange\",\n",
    "                                when(col(\"familyIncomeRange\")==\"1\", lit(\"0-5000\")).\n",
    "                                when(col(\"familyIncomeRange\")==\"2\", lit(\"5000-7499\")).\n",
    "                                when(col(\"familyIncomeRange\")==\"3\", lit(\"7500-9999\")).\n",
    "                                when(col(\"familyIncomeRange\")==\"4\", lit(\"10000-12499\")).\n",
    "                                when(col(\"familyIncomeRange\")==\"5\", lit(\"12500-14499\")).\n",
    "                                when(col(\"familyIncomeRange\")==\"6\", lit(\"15000-19999\")).\n",
    "                                when(col(\"familyIncomeRange\")==\"7\", lit(\"20000-24999\")).\n",
    "                                when(col(\"familyIncomeRange\")==\"8\", lit(\"25000-29999\")).\n",
    "                                when(col(\"familyIncomeRange\")==\"9\", lit(\"30000-34999\")).\n",
    "                                when(col(\"familyIncomeRange\")==\"10\",lit(\"35000-39999\")).\n",
    "                                when(col(\"familyIncomeRange\")==\"11\",lit(\"40000-49999\")).\n",
    "                                when(col(\"familyIncomeRange\")==\"12\",lit(\"50000-59999\")).\n",
    "                                when(col(\"familyIncomeRange\")==\"13\",lit(\"60000-74999\")).\n",
    "                                when(col(\"familyIncomeRange\")==\"14\",lit(\"75000-99999\")).\n",
    "                                when(col(\"familyIncomeRange\")==\"15\",lit(\"100000-149999\")).\n",
    "                                when(col(\"familyIncomeRange\")==\"16\",lit(\"150000...\")).\n",
    "                                otherwise(lit(\"not_applicable\")))\n"
   ]
  },
  {
   "cell_type": "code",
   "execution_count": 172,
   "id": "9e60bb2a",
   "metadata": {},
   "outputs": [
    {
     "name": "stdout",
     "output_type": "stream",
     "text": [
      "+--------------------+-------------+------------+-----------+-------------+--------------------+--------------------------+----------------------------+-------------+-----------------+-----------+----+---------------------+\n",
      "|         householdId|interviewTime|finalOutcome|housingType|householdType|telephoneInHousehold|accessToTelephoneElsewhere|acceptableTelephoneInterview|interviewType|familyIncomeRange|geoDivision|race|new_FamilyIncomeRange|\n",
      "+--------------------+-------------+------------+-----------+-------------+--------------------+--------------------------+----------------------------+-------------+-----------------+-----------+----+---------------------+\n",
      "|00000479511071906011|     2017/Dec|         201|          1|            1|                   1|                        -1|                           1|            2|                9|          6|   1|       not_applicable|\n",
      "|00000479511071906011|     2017/Dec|         201|          1|            1|                   1|                        -1|                           1|            2|                9|          6|   1|       not_applicable|\n",
      "|00007169100494106111|     2017/Dec|         201|          1|            1|                   1|                        -1|                           1|            1|               11|          6|   1|          40000-49999|\n",
      "|00007169100494106111|     2017/Dec|         201|          1|            1|                   1|                        -1|                           1|            1|               11|          6|   1|          40000-49999|\n",
      "|00007169100494106111|     2017/Dec|         201|          1|            1|                   1|                        -1|                           1|            1|               11|          6|   1|          40000-49999|\n",
      "+--------------------+-------------+------------+-----------+-------------+--------------------+--------------------------+----------------------------+-------------+-----------------+-----------+----+---------------------+\n",
      "only showing top 5 rows\n",
      "\n"
     ]
    }
   ],
   "source": [
    "new_df.show(5)"
   ]
  },
  {
   "cell_type": "markdown",
   "id": "ebc1db2d",
   "metadata": {},
   "source": [
    "### decoding 'geographical division'"
   ]
  },
  {
   "cell_type": "code",
   "execution_count": 173,
   "id": "bc4468c6",
   "metadata": {},
   "outputs": [],
   "source": [
    "new_df = new_df.withColumn(\"new_geoDivision\", \n",
    "                            when(col(\"geoDivision\") == \"1\", lit(\"New England\")).\n",
    "                            when(col(\"geoDivision\") == \"2\", lit(\"Middle Atlantic\")).\n",
    "                            when(col(\"geoDivision\") == \"3\", lit(\"East North Central\")).\n",
    "                            when(col(\"geoDivision\") == \"4\", lit(\"West North Central\")).\n",
    "                            when(col(\"geoDivision\") == \"5\", lit(\"South Atlantic\")).\n",
    "                            when(col(\"geoDivision\") == \"6\", lit(\"East South Central\")).\n",
    "                            when(col(\"geoDivision\") == \"7\", lit(\"West South Central\")).\n",
    "                            when(col(\"geoDivision\") == \"8\", lit(\"Mountain\")).\n",
    "                            when(col(\"geoDivision\") == \"9\", lit(\"Pacific\")).\n",
    "                            otherwise(lit(\"not_applicable\")))"
   ]
  },
  {
   "cell_type": "code",
   "execution_count": 174,
   "id": "d8a68385",
   "metadata": {},
   "outputs": [
    {
     "name": "stdout",
     "output_type": "stream",
     "text": [
      "+--------------------+-------------+------------+-----------+-------------+--------------------+--------------------------+----------------------------+-------------+-----------------+-----------+----+---------------------+------------------+\n",
      "|         householdId|interviewTime|finalOutcome|housingType|householdType|telephoneInHousehold|accessToTelephoneElsewhere|acceptableTelephoneInterview|interviewType|familyIncomeRange|geoDivision|race|new_FamilyIncomeRange|   new_geoDivision|\n",
      "+--------------------+-------------+------------+-----------+-------------+--------------------+--------------------------+----------------------------+-------------+-----------------+-----------+----+---------------------+------------------+\n",
      "|00000479511071906011|     2017/Dec|         201|          1|            1|                   1|                        -1|                           1|            2|                9|          6|   1|       not_applicable|East South Central|\n",
      "|00000479511071906011|     2017/Dec|         201|          1|            1|                   1|                        -1|                           1|            2|                9|          6|   1|       not_applicable|East South Central|\n",
      "|00007169100494106111|     2017/Dec|         201|          1|            1|                   1|                        -1|                           1|            1|               11|          6|   1|          40000-49999|East South Central|\n",
      "|00007169100494106111|     2017/Dec|         201|          1|            1|                   1|                        -1|                           1|            1|               11|          6|   1|          40000-49999|East South Central|\n",
      "|00007169100494106111|     2017/Dec|         201|          1|            1|                   1|                        -1|                           1|            1|               11|          6|   1|          40000-49999|East South Central|\n",
      "+--------------------+-------------+------------+-----------+-------------+--------------------+--------------------------+----------------------------+-------------+-----------------+-----------+----+---------------------+------------------+\n",
      "only showing top 5 rows\n",
      "\n"
     ]
    }
   ],
   "source": [
    "new_df.show(5)"
   ]
  },
  {
   "cell_type": "markdown",
   "id": "3c453420",
   "metadata": {},
   "source": [
    "### decoding 'race'"
   ]
  },
  {
   "cell_type": "code",
   "execution_count": 175,
   "id": "8d9f9fb5",
   "metadata": {
    "scrolled": true
   },
   "outputs": [],
   "source": [
    "new_df=new_df.withColumn(\"new_Race\",\n",
    "                           when(col(\"race\") == \" 1\", lit(\"White Only\")).\n",
    "                           when(col(\"race\") == \" 2\", lit(\"Black Only\")).\n",
    "                           when(col(\"race\") == \" 3\", lit(\"American Indian,Alaskan Native Only\")).\n",
    "                           when(col(\"race\") == \" 4\", lit(\"Asian Only\")).\n",
    "                           when(col(\"race\") == \" 5\", lit(\"Hawaiian/Pacific Islander Only\")).\n",
    "                           when(col(\"race\") == \" 6\", lit(\"White-Black\")).\n",
    "                           when(col(\"race\") == \" 7\", lit(\"White-AI\")).\n",
    "                           when(col(\"race\") == \" 8\", lit(\"White-Asian\")).\n",
    "                           when(col(\"race\") == \" 9\", lit(\"White-HP\")).\n",
    "                           when(col(\"race\") == \"10\", lit(\"Black-AI\")).\n",
    "                           when(col(\"race\") == \"11\", lit(\"Black-Asian\")).\n",
    "                           when(col(\"race\") == \"12\", lit(\"Black-HP\")).\n",
    "                           when(col(\"race\") == \"13\", lit(\"AI-Asian\")).\n",
    "                           when(col(\"race\") == \"14\", lit(\"AI-HP\")).\n",
    "                           when(col(\"race\") == \"15\", lit(\"Asian-HP\")).\n",
    "                           when(col(\"race\") == \"16\", lit(\"W-B-AI\")).\n",
    "                           when(col(\"race\") == \"17\", lit(\"W-B-A\")).\n",
    "                           when(col(\"race\") == \"18\", lit(\"W-B-HP\")).\n",
    "                           when(col(\"race\") == \"19\", lit(\"W-AI-A\")).\n",
    "                           when(col(\"race\") == \"20\", lit(\"W-AI-HP\")).\n",
    "                           when(col(\"race\") == \"21\", lit(\"W-A-HP\")).\n",
    "                           when(col(\"race\") == \"22\", lit(\"B-AI-A\")).\n",
    "                           when(col(\"race\") == \"23\", lit(\"W-B-AI-A\")).\n",
    "                           when(col(\"race\") == \"24\", lit(\"W-AI-A-HP\")).\n",
    "                           when(col(\"race\") == \"25\", lit(\"Other 3 Race Combinations\")).\n",
    "                           when(col(\"race\") == \"26\", lit(\"Other 4 and 5 Race Combinations\")).\n",
    "                           otherwise(lit(\"not_applicable\")))"
   ]
  },
  {
   "cell_type": "code",
   "execution_count": 176,
   "id": "cb48e4ab",
   "metadata": {},
   "outputs": [
    {
     "name": "stdout",
     "output_type": "stream",
     "text": [
      "+--------------------+-------------+------------+-----------+-------------+--------------------+--------------------------+----------------------------+-------------+-----------------+-----------+----+---------------------+------------------+----------+\n",
      "|         householdId|interviewTime|finalOutcome|housingType|householdType|telephoneInHousehold|accessToTelephoneElsewhere|acceptableTelephoneInterview|interviewType|familyIncomeRange|geoDivision|race|new_FamilyIncomeRange|   new_geoDivision|  new_Race|\n",
      "+--------------------+-------------+------------+-----------+-------------+--------------------+--------------------------+----------------------------+-------------+-----------------+-----------+----+---------------------+------------------+----------+\n",
      "|00000479511071906011|     2017/Dec|         201|          1|            1|                   1|                        -1|                           1|            2|                9|          6|   1|       not_applicable|East South Central|White Only|\n",
      "|00000479511071906011|     2017/Dec|         201|          1|            1|                   1|                        -1|                           1|            2|                9|          6|   1|       not_applicable|East South Central|White Only|\n",
      "|00007169100494106111|     2017/Dec|         201|          1|            1|                   1|                        -1|                           1|            1|               11|          6|   1|          40000-49999|East South Central|White Only|\n",
      "|00007169100494106111|     2017/Dec|         201|          1|            1|                   1|                        -1|                           1|            1|               11|          6|   1|          40000-49999|East South Central|White Only|\n",
      "|00007169100494106111|     2017/Dec|         201|          1|            1|                   1|                        -1|                           1|            1|               11|          6|   1|          40000-49999|East South Central|White Only|\n",
      "+--------------------+-------------+------------+-----------+-------------+--------------------+--------------------------+----------------------------+-------------+-----------------+-----------+----+---------------------+------------------+----------+\n",
      "only showing top 5 rows\n",
      "\n"
     ]
    }
   ],
   "source": [
    "new_df.show(5)"
   ]
  },
  {
   "cell_type": "markdown",
   "id": "cf1730d3",
   "metadata": {},
   "source": [
    "### decoding 'household has a telephone'"
   ]
  },
  {
   "cell_type": "code",
   "execution_count": 177,
   "id": "f7a5f6ac",
   "metadata": {},
   "outputs": [],
   "source": [
    "new_df = new_df.withColumn(\"new_telephoneInHousehold\",\n",
    "                          when(col(\"telephoneInHousehold\") == \" 1\", lit(\"Yes\")).\n",
    "                          when(col(\"telephoneInHousehold\") == \" 2\", lit(\"No\")).\n",
    "                          otherwise(lit(\"not_applicable\")))\n",
    "                           "
   ]
  },
  {
   "cell_type": "code",
   "execution_count": 178,
   "id": "156554d1",
   "metadata": {},
   "outputs": [
    {
     "name": "stdout",
     "output_type": "stream",
     "text": [
      "+--------------------+-------------+------------+-----------+-------------+--------------------+--------------------------+----------------------------+-------------+-----------------+-----------+----+---------------------+------------------+----------+------------------------+\n",
      "|         householdId|interviewTime|finalOutcome|housingType|householdType|telephoneInHousehold|accessToTelephoneElsewhere|acceptableTelephoneInterview|interviewType|familyIncomeRange|geoDivision|race|new_FamilyIncomeRange|   new_geoDivision|  new_Race|new_telephoneInHousehold|\n",
      "+--------------------+-------------+------------+-----------+-------------+--------------------+--------------------------+----------------------------+-------------+-----------------+-----------+----+---------------------+------------------+----------+------------------------+\n",
      "|00000479511071906011|     2017/Dec|         201|          1|            1|                   1|                        -1|                           1|            2|                9|          6|   1|       not_applicable|East South Central|White Only|                     Yes|\n",
      "|00000479511071906011|     2017/Dec|         201|          1|            1|                   1|                        -1|                           1|            2|                9|          6|   1|       not_applicable|East South Central|White Only|                     Yes|\n",
      "|00007169100494106111|     2017/Dec|         201|          1|            1|                   1|                        -1|                           1|            1|               11|          6|   1|          40000-49999|East South Central|White Only|                     Yes|\n",
      "|00007169100494106111|     2017/Dec|         201|          1|            1|                   1|                        -1|                           1|            1|               11|          6|   1|          40000-49999|East South Central|White Only|                     Yes|\n",
      "|00007169100494106111|     2017/Dec|         201|          1|            1|                   1|                        -1|                           1|            1|               11|          6|   1|          40000-49999|East South Central|White Only|                     Yes|\n",
      "+--------------------+-------------+------------+-----------+-------------+--------------------+--------------------------+----------------------------+-------------+-----------------+-----------+----+---------------------+------------------+----------+------------------------+\n",
      "only showing top 5 rows\n",
      "\n"
     ]
    }
   ],
   "source": [
    "new_df.show(5)"
   ]
  },
  {
   "cell_type": "markdown",
   "id": "fedbab2f",
   "metadata": {},
   "source": [
    "### decoding 'household can access a telephone elsewhere'"
   ]
  },
  {
   "cell_type": "code",
   "execution_count": 179,
   "id": "e4398b74",
   "metadata": {},
   "outputs": [],
   "source": [
    "new_df = new_df.withColumn(\"new_AccessToTelephoneElsewhere\",\n",
    "                          when(col(\"accessToTelephoneElsewhere\") == \" 1\", lit(\"Yes\")).\n",
    "                          when(col(\"accessToTelephoneElsewhere\") == \" 2\", lit(\"No\")).\n",
    "                          otherwise(lit(\"not_applicable\")))"
   ]
  },
  {
   "cell_type": "code",
   "execution_count": 180,
   "id": "2da85715",
   "metadata": {},
   "outputs": [
    {
     "name": "stdout",
     "output_type": "stream",
     "text": [
      "+--------------------+-------------+------------+-----------+-------------+--------------------+--------------------------+----------------------------+-------------+-----------------+-----------+----+---------------------+------------------+----------+------------------------+------------------------------+\n",
      "|         householdId|interviewTime|finalOutcome|housingType|householdType|telephoneInHousehold|accessToTelephoneElsewhere|acceptableTelephoneInterview|interviewType|familyIncomeRange|geoDivision|race|new_FamilyIncomeRange|   new_geoDivision|  new_Race|new_telephoneInHousehold|new_AccessToTelephoneElsewhere|\n",
      "+--------------------+-------------+------------+-----------+-------------+--------------------+--------------------------+----------------------------+-------------+-----------------+-----------+----+---------------------+------------------+----------+------------------------+------------------------------+\n",
      "|00000479511071906011|     2017/Dec|         201|          1|            1|                   1|                        -1|                           1|            2|                9|          6|   1|       not_applicable|East South Central|White Only|                     Yes|                not_applicable|\n",
      "|00000479511071906011|     2017/Dec|         201|          1|            1|                   1|                        -1|                           1|            2|                9|          6|   1|       not_applicable|East South Central|White Only|                     Yes|                not_applicable|\n",
      "|00007169100494106111|     2017/Dec|         201|          1|            1|                   1|                        -1|                           1|            1|               11|          6|   1|          40000-49999|East South Central|White Only|                     Yes|                not_applicable|\n",
      "|00007169100494106111|     2017/Dec|         201|          1|            1|                   1|                        -1|                           1|            1|               11|          6|   1|          40000-49999|East South Central|White Only|                     Yes|                not_applicable|\n",
      "|00007169100494106111|     2017/Dec|         201|          1|            1|                   1|                        -1|                           1|            1|               11|          6|   1|          40000-49999|East South Central|White Only|                     Yes|                not_applicable|\n",
      "+--------------------+-------------+------------+-----------+-------------+--------------------+--------------------------+----------------------------+-------------+-----------------+-----------+----+---------------------+------------------+----------+------------------------+------------------------------+\n",
      "only showing top 5 rows\n",
      "\n"
     ]
    }
   ],
   "source": [
    "new_df.show(5)"
   ]
  },
  {
   "cell_type": "markdown",
   "id": "562f935e",
   "metadata": {},
   "source": [
    "### decoding 'Is telephone interview acceptable'"
   ]
  },
  {
   "cell_type": "code",
   "execution_count": 181,
   "id": "bdc7b38f",
   "metadata": {},
   "outputs": [],
   "source": [
    "new_df = new_df.withColumn(\"new_acceptableTelephoneInterview\",\n",
    "                          when(col(\"acceptableTelephoneInterview\") == \" 1\", lit(\"Yes\")).\n",
    "                          when(col(\"acceptableTelephoneInterview\") == \" 1\", lit(\"No\"))) "
   ]
  },
  {
   "cell_type": "code",
   "execution_count": 182,
   "id": "290c3fdb",
   "metadata": {
    "scrolled": true
   },
   "outputs": [
    {
     "name": "stdout",
     "output_type": "stream",
     "text": [
      "+--------------------+-------------+------------+-----------+-------------+--------------------+--------------------------+----------------------------+-------------+-----------------+-----------+----+---------------------+------------------+----------+------------------------+------------------------------+--------------------------------+\n",
      "|         householdId|interviewTime|finalOutcome|housingType|householdType|telephoneInHousehold|accessToTelephoneElsewhere|acceptableTelephoneInterview|interviewType|familyIncomeRange|geoDivision|race|new_FamilyIncomeRange|   new_geoDivision|  new_Race|new_telephoneInHousehold|new_AccessToTelephoneElsewhere|new_acceptableTelephoneInterview|\n",
      "+--------------------+-------------+------------+-----------+-------------+--------------------+--------------------------+----------------------------+-------------+-----------------+-----------+----+---------------------+------------------+----------+------------------------+------------------------------+--------------------------------+\n",
      "|00000479511071906011|     2017/Dec|         201|          1|            1|                   1|                        -1|                           1|            2|                9|          6|   1|       not_applicable|East South Central|White Only|                     Yes|                not_applicable|                             Yes|\n",
      "|00000479511071906011|     2017/Dec|         201|          1|            1|                   1|                        -1|                           1|            2|                9|          6|   1|       not_applicable|East South Central|White Only|                     Yes|                not_applicable|                             Yes|\n",
      "|00007169100494106111|     2017/Dec|         201|          1|            1|                   1|                        -1|                           1|            1|               11|          6|   1|          40000-49999|East South Central|White Only|                     Yes|                not_applicable|                             Yes|\n",
      "|00007169100494106111|     2017/Dec|         201|          1|            1|                   1|                        -1|                           1|            1|               11|          6|   1|          40000-49999|East South Central|White Only|                     Yes|                not_applicable|                             Yes|\n",
      "|00007169100494106111|     2017/Dec|         201|          1|            1|                   1|                        -1|                           1|            1|               11|          6|   1|          40000-49999|East South Central|White Only|                     Yes|                not_applicable|                             Yes|\n",
      "+--------------------+-------------+------------+-----------+-------------+--------------------+--------------------------+----------------------------+-------------+-----------------+-----------+----+---------------------+------------------+----------+------------------------+------------------------------+--------------------------------+\n",
      "only showing top 5 rows\n",
      "\n"
     ]
    }
   ],
   "source": [
    "new_df.show(5)"
   ]
  },
  {
   "cell_type": "markdown",
   "id": "2ccb6c0d",
   "metadata": {},
   "source": [
    "### dropping the encoded columns"
   ]
  },
  {
   "cell_type": "code",
   "execution_count": 183,
   "id": "49c54e58",
   "metadata": {},
   "outputs": [],
   "source": [
    "new_ddf = new_df.drop(\"familyIncomeRange\",\"geoDivision\",\"race\",\"telephoneInHousehold\",\"accessToTelephoneElsewhere\",\"acceptableTelephoneInterview\")"
   ]
  },
  {
   "cell_type": "code",
   "execution_count": 184,
   "id": "10536b11",
   "metadata": {
    "scrolled": true
   },
   "outputs": [
    {
     "name": "stdout",
     "output_type": "stream",
     "text": [
      "+--------------------+-------------+------------+-----------+-------------+-------------+---------------------+------------------+----------+------------------------+------------------------------+--------------------------------+\n",
      "|         householdId|interviewTime|finalOutcome|housingType|householdType|interviewType|new_FamilyIncomeRange|   new_geoDivision|  new_Race|new_telephoneInHousehold|new_AccessToTelephoneElsewhere|new_acceptableTelephoneInterview|\n",
      "+--------------------+-------------+------------+-----------+-------------+-------------+---------------------+------------------+----------+------------------------+------------------------------+--------------------------------+\n",
      "|00000479511071906011|     2017/Dec|         201|          1|            1|            2|       not_applicable|East South Central|White Only|                     Yes|                not_applicable|                             Yes|\n",
      "|00000479511071906011|     2017/Dec|         201|          1|            1|            2|       not_applicable|East South Central|White Only|                     Yes|                not_applicable|                             Yes|\n",
      "|00007169100494106111|     2017/Dec|         201|          1|            1|            1|          40000-49999|East South Central|White Only|                     Yes|                not_applicable|                             Yes|\n",
      "|00007169100494106111|     2017/Dec|         201|          1|            1|            1|          40000-49999|East South Central|White Only|                     Yes|                not_applicable|                             Yes|\n",
      "|00007169100494106111|     2017/Dec|         201|          1|            1|            1|          40000-49999|East South Central|White Only|                     Yes|                not_applicable|                             Yes|\n",
      "+--------------------+-------------+------------+-----------+-------------+-------------+---------------------+------------------+----------+------------------------+------------------------------+--------------------------------+\n",
      "only showing top 5 rows\n",
      "\n"
     ]
    }
   ],
   "source": [
    "new_ddf.show(5)"
   ]
  },
  {
   "cell_type": "markdown",
   "id": "63ffc4d6",
   "metadata": {},
   "source": [
    "## Question1\n"
   ]
  },
  {
   "cell_type": "markdown",
   "id": "1a5f069e",
   "metadata": {},
   "source": [
    "### creating a view in Spark's SQL engine "
   ]
  },
  {
   "cell_type": "code",
   "execution_count": 156,
   "id": "b32a5baa",
   "metadata": {},
   "outputs": [],
   "source": [
    "new_ddf.createOrReplaceTempView('us_cps')\n"
   ]
  },
  {
   "cell_type": "markdown",
   "id": "39426464",
   "metadata": {},
   "source": [
    "### Selecting columns that are important for the analysis"
   ]
  },
  {
   "cell_type": "code",
   "execution_count": 157,
   "id": "71721f41",
   "metadata": {},
   "outputs": [
    {
     "name": "stderr",
     "output_type": "stream",
     "text": [
      "\r",
      "[Stage 416:>                                                        (0 + 4) / 4]\r",
      "\r",
      "[Stage 416:==============>                                          (1 + 3) / 4]\r"
     ]
    },
    {
     "name": "stdout",
     "output_type": "stream",
     "text": [
      "+---------------------+-----+\n",
      "|new_FamilyIncomeRange|count|\n",
      "+---------------------+-----+\n",
      "|       not_applicable|56580|\n",
      "|        100000-149999|17794|\n",
      "|          75000-99999|16557|\n",
      "|            150000...|15704|\n",
      "|          60000-74999|13442|\n",
      "|          50000-59999| 9971|\n",
      "|          40000-49999| 9788|\n",
      "|          35000-39999| 6620|\n",
      "+---------------------+-----+\n",
      "\n"
     ]
    },
    {
     "name": "stderr",
     "output_type": "stream",
     "text": [
      "\r",
      "                                                                                \r"
     ]
    }
   ],
   "source": [
    "spark.sql(\"\"\"\n",
    "    SELECT new_FamilyIncomeRange, COUNT(*) as count\n",
    "    FROM us_cps\n",
    "    WHERE new_FamilyIncomeRange IS NOT NULL\n",
    "    GROUP BY new_FamilyIncomeRange\n",
    "    ORDER BY count DESC\n",
    "    LIMIT 10\n",
    "\"\"\").show()"
   ]
  },
  {
   "cell_type": "markdown",
   "id": "94a08fea",
   "metadata": {},
   "source": [
    "### Question 2"
   ]
  },
  {
   "cell_type": "markdown",
   "id": "d0738b93",
   "metadata": {},
   "source": [
    "### Getting the count of responders per geographical division as well as  race"
   ]
  },
  {
   "cell_type": "code",
   "execution_count": 158,
   "id": "105414f8",
   "metadata": {},
   "outputs": [
    {
     "name": "stderr",
     "output_type": "stream",
     "text": [
      "\r",
      "[Stage 419:>                                                        (0 + 4) / 4]\r"
     ]
    },
    {
     "name": "stdout",
     "output_type": "stream",
     "text": [
      "+------------------+----------+-----+\n",
      "|   new_geoDivision|  new_Race|count|\n",
      "+------------------+----------+-----+\n",
      "|    South Atlantic|White Only|16999|\n",
      "|          Mountain|White Only|14343|\n",
      "|           Pacific|White Only|13214|\n",
      "|East North Central|White Only|11325|\n",
      "|West South Central|White Only|11248|\n",
      "|West North Central|White Only| 9884|\n",
      "|   Middle Atlantic|White Only| 8487|\n",
      "|       New England|White Only| 8410|\n",
      "|East South Central|White Only| 6580|\n",
      "|    South Atlantic|Black Only| 4899|\n",
      "+------------------+----------+-----+\n",
      "\n"
     ]
    },
    {
     "name": "stderr",
     "output_type": "stream",
     "text": [
      "\r",
      "[Stage 419:============================>                            (2 + 2) / 4]\r",
      "\r",
      "                                                                                \r"
     ]
    }
   ],
   "source": [
    "spark.sql(\"\"\"\n",
    "    SELECT new_geoDivision, new_Race, COUNT(*) as count\n",
    "    FROM us_cps\n",
    "    WHERE new_Race IS NOT NULL\n",
    "    GROUP BY new_geoDivision, new_Race\n",
    "    ORDER BY count DESC\n",
    "    LIMIT 10\n",
    "\"\"\").show()"
   ]
  },
  {
   "cell_type": "markdown",
   "id": "5e257c2b",
   "metadata": {},
   "source": [
    "## Question 3\n",
    "### How many responders do not have telephone in their house, but can access a telephone elsewhere and telephone interview is accepted"
   ]
  },
  {
   "cell_type": "code",
   "execution_count": 159,
   "id": "c15c3d5b",
   "metadata": {},
   "outputs": [
    {
     "name": "stderr",
     "output_type": "stream",
     "text": [
      "\r",
      "[Stage 422:>                                                        (0 + 4) / 4]\r",
      "\r",
      "[Stage 422:==========================================>              (3 + 1) / 4]\r"
     ]
    },
    {
     "name": "stdout",
     "output_type": "stream",
     "text": [
      "+-----+\n",
      "|count|\n",
      "+-----+\n",
      "|  633|\n",
      "+-----+\n",
      "\n"
     ]
    },
    {
     "name": "stderr",
     "output_type": "stream",
     "text": [
      "\r",
      "                                                                                \r"
     ]
    }
   ],
   "source": [
    "spark.sql(\"\"\"\n",
    "    SELECT COUNT(*) as count\n",
    "    FROM us_cps\n",
    "    WHERE new_telephoneInHousehold= \"No\"\n",
    "    AND new_AccessToTelephoneElsewhere = \"Yes\"\n",
    "    AND new_acceptableTelephoneInterview = \"Yes\"\n",
    "\"\"\").show()"
   ]
  },
  {
   "cell_type": "markdown",
   "id": "8fd26527",
   "metadata": {},
   "source": [
    "## Question 4\n",
    "### Getting the number of responders that have access to a telephone, but telephone interview is not accepted "
   ]
  },
  {
   "cell_type": "code",
   "execution_count": 185,
   "id": "a8098047",
   "metadata": {},
   "outputs": [
    {
     "name": "stderr",
     "output_type": "stream",
     "text": [
      "\r",
      "[Stage 477:>                                                        (0 + 4) / 4]\r"
     ]
    },
    {
     "name": "stdout",
     "output_type": "stream",
     "text": [
      "+-----+\n",
      "|count|\n",
      "+-----+\n",
      "|    0|\n",
      "+-----+\n",
      "\n"
     ]
    },
    {
     "name": "stderr",
     "output_type": "stream",
     "text": [
      "\r",
      "                                                                                \r"
     ]
    }
   ],
   "source": [
    "spark.sql(\"\"\"\n",
    "    SELECT COUNT(*) as count\n",
    "    FROM us_cps\n",
    "    WHERE new_telephoneInHousehold = \"Yes\"\n",
    "    AND new_AccessToTelephoneElsewhere = \"Yes\"\n",
    "    AND new_acceptableTelephoneInterview = \"No\"\n",
    "\"\"\").show()"
   ]
  },
  {
   "cell_type": "markdown",
   "id": "398f4bf4",
   "metadata": {},
   "source": [
    "***                                             THE END                                                         ***"
   ]
  }
 ],
 "metadata": {
  "kernelspec": {
   "display_name": "Python 3 (ipykernel)",
   "language": "python",
   "name": "python3"
  },
  "language_info": {
   "codemirror_mode": {
    "name": "ipython",
    "version": 3
   },
   "file_extension": ".py",
   "mimetype": "text/x-python",
   "name": "python",
   "nbconvert_exporter": "python",
   "pygments_lexer": "ipython3",
   "version": "3.8.10"
  }
 },
 "nbformat": 4,
 "nbformat_minor": 5
}
