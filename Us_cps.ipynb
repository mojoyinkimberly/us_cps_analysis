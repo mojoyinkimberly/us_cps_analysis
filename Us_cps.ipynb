{
 "cells": [
  {
   "cell_type": "markdown",
   "id": "2a2a52af",
   "metadata": {},
   "source": [
    "### importing the necessary libraries"
   ]
  },
  {
   "cell_type": "code",
   "execution_count": 7,
   "id": "92b518a8",
   "metadata": {},
   "outputs": [],
   "source": [
    "import pyspark\n",
    "import pyarrow"
   ]
  },
  {
   "cell_type": "code",
   "execution_count": 8,
   "id": "3ad0262e",
   "metadata": {},
   "outputs": [],
   "source": [
    "from pyspark.sql import SparkSession\n",
    "import pandas as pd\n",
    "from pyspark.sql.functions import when, lit, col\n",
    "from pyspark.sql import functions as func\n",
    "from pyspark.sql.functions import col, isnan, when, count\n",
    "from functools import reduce\n",
    "from pyspark.sql.types import StructType, StructField, StringType, LongType, DateType, IntegerType"
   ]
  },
  {
   "cell_type": "markdown",
   "id": "cfbe76c0",
   "metadata": {},
   "source": [
    "### creating sparksession object"
   ]
  },
  {
   "cell_type": "code",
   "execution_count": 9,
   "id": "23a2ef68",
   "metadata": {},
   "outputs": [
    {
     "name": "stdout",
     "output_type": "stream",
     "text": [
      "23/03/21 16:09:37 WARN SparkSession: Using an existing Spark session; only runtime SQL configurations will take effect.\n"
     ]
    }
   ],
   "source": [
    "spark =SparkSession.builder.appName('DecemberCps').getOrCreate()"
   ]
  },
  {
   "cell_type": "markdown",
   "id": "b0bc5cee",
   "metadata": {},
   "source": [
    "### reading the dataset into the environment "
   ]
  },
  {
   "cell_type": "code",
   "execution_count": 10,
   "id": "a64a1d43",
   "metadata": {},
   "outputs": [
    {
     "name": "stderr",
     "output_type": "stream",
     "text": [
      "                                                                                \r"
     ]
    }
   ],
   "source": [
    "df_cps = spark.read.csv(\"dec17pub.dat\")"
   ]
  },
  {
   "cell_type": "code",
   "execution_count": 11,
   "id": "12870984",
   "metadata": {
    "scrolled": false
   },
   "outputs": [
    {
     "name": "stdout",
     "output_type": "stream",
     "text": [
      "+--------------------+\n",
      "|                 _c0|\n",
      "+--------------------+\n",
      "|00000479511071912...|\n",
      "|00000479511071912...|\n",
      "|00007169100494112...|\n",
      "|00007169100494112...|\n",
      "|00007169100494112...|\n",
      "|00011017798798612...|\n",
      "|00011017798798612...|\n",
      "|00011020659338112...|\n",
      "|00011028481568012...|\n",
      "|00011032785646912...|\n",
      "+--------------------+\n",
      "only showing top 10 rows\n",
      "\n"
     ]
    }
   ],
   "source": [
    "df_cps.show(10)"
   ]
  },
  {
   "cell_type": "markdown",
   "id": "621799ae",
   "metadata": {},
   "source": [
    "### extracting the required columns from the dataset using the data dictionary file"
   ]
  },
  {
   "cell_type": "code",
   "execution_count": 12,
   "id": "7b34ecda",
   "metadata": {},
   "outputs": [],
   "source": [
    "df_cps1 = df_cps.select(func.concat_ws(\"\",func.substring(\"_c0\",1,15),func.substring(\"_c0\", 71,5)).alias(\"householdId\"),\\\n",
    "                                      func.concat_ws(\"/\",func.substring(\"_c0\",18,4),func.date_format(func.to_date(func.substring(\"_c0\",16,2), \"MM\"),\"MMM\")).alias(\"interviewTime\"),\\\n",
    "                                      func.substring(\"_c0\", 24,3).alias(\"finalOutcome\"),\\\n",
    "                                      func.substring(\"_c0\", 31,2).alias(\"housingType\"),\\\n",
    "                                      func.substring(\"_c0\", 61,2).alias(\"householdType\"),\\\n",
    "                                      func.substring(\"_c0\", 33,2).alias(\"telephoneInHousehold\"),\\\n",
    "                                      func.substring(\"_c0\", 35,2).alias(\"accessToTelephoneElsewhere\"),\\\n",
    "                                      func.substring(\"_c0\", 37,2).alias(\"acceptableTelephoneInterview\"),\\\n",
    "                                      func.substring(\"_c0\", 65,2).alias(\"interviewType\"),\\\n",
    "                                      func.substring(\"_c0\", 39,2).alias(\"familyIncomeRange\"),\\\n",
    "                                      func.substring(\"_c0\", 91,1).alias(\"geoDivision\"),\\\n",
    "                                      func.substring(\"_c0\", 139,2).alias(\"race\"))            "
   ]
  },
  {
   "cell_type": "markdown",
   "id": "9a17079b",
   "metadata": {},
   "source": [
    "### showing ten(10) samples "
   ]
  },
  {
   "cell_type": "code",
   "execution_count": 13,
   "id": "6dc146ae",
   "metadata": {},
   "outputs": [
    {
     "name": "stdout",
     "output_type": "stream",
     "text": [
      "+--------------------+-------------+------------+-----------+-------------+--------------------+--------------------------+----------------------------+-------------+-----------------+-----------+----+\n",
      "|         householdId|interviewTime|finalOutcome|housingType|householdType|telephoneInHousehold|accessToTelephoneElsewhere|acceptableTelephoneInterview|interviewType|familyIncomeRange|geoDivision|race|\n",
      "+--------------------+-------------+------------+-----------+-------------+--------------------+--------------------------+----------------------------+-------------+-----------------+-----------+----+\n",
      "|00000479511071906011|     2017/Dec|         201|          1|            1|                   1|                        -1|                           1|            2|                9|          6|   1|\n",
      "|00000479511071906011|     2017/Dec|         201|          1|            1|                   1|                        -1|                           1|            2|                9|          6|   1|\n",
      "|00007169100494106111|     2017/Dec|         201|          1|            1|                   1|                        -1|                           1|            1|               11|          6|   1|\n",
      "|00007169100494106111|     2017/Dec|         201|          1|            1|                   1|                        -1|                           1|            1|               11|          6|   1|\n",
      "|00007169100494106111|     2017/Dec|         201|          1|            1|                   1|                        -1|                           1|            1|               11|          6|   1|\n",
      "|00011017798798608011|     2017/Dec|         201|          1|            1|                   1|                        -1|                           1|            1|               14|          6|   2|\n",
      "|00011017798798608011|     2017/Dec|         201|          1|            1|                   1|                        -1|                           1|            1|               14|          6|   2|\n",
      "|00011020659338108011|     2017/Dec|         213|          1|            0|                  -1|                        -1|                           0|            1|               -1|          6|  -1|\n",
      "|00011028481568008111|     2017/Dec|         201|          1|            7|                   1|                        -1|                           1|            1|                9|          6|   1|\n",
      "|00011032785646906111|     2017/Dec|         201|          1|            7|                   1|                        -1|                           1|            1|                5|          6|   2|\n",
      "+--------------------+-------------+------------+-----------+-------------+--------------------+--------------------------+----------------------------+-------------+-----------------+-----------+----+\n",
      "only showing top 10 rows\n",
      "\n"
     ]
    }
   ],
   "source": [
    "df_cps1.show(10)"
   ]
  },
  {
   "cell_type": "markdown",
   "id": "477a8e6f",
   "metadata": {},
   "source": [
    "### checking for number of rows in dataset"
   ]
  },
  {
   "cell_type": "code",
   "execution_count": 14,
   "id": "d2ff67f9",
   "metadata": {},
   "outputs": [
    {
     "name": "stderr",
     "output_type": "stream",
     "text": [
      "                                                                                \r"
     ]
    },
    {
     "data": {
      "text/plain": [
       "146456"
      ]
     },
     "execution_count": 14,
     "metadata": {},
     "output_type": "execute_result"
    }
   ],
   "source": [
    "df_cps1.count()\n"
   ]
  },
  {
   "cell_type": "markdown",
   "id": "e7395863",
   "metadata": {},
   "source": [
    "### printing schema of dataframe"
   ]
  },
  {
   "cell_type": "code",
   "execution_count": 15,
   "id": "b14c67ca",
   "metadata": {},
   "outputs": [
    {
     "name": "stdout",
     "output_type": "stream",
     "text": [
      "root\n",
      " |-- householdId: string (nullable = false)\n",
      " |-- interviewTime: string (nullable = false)\n",
      " |-- finalOutcome: string (nullable = true)\n",
      " |-- housingType: string (nullable = true)\n",
      " |-- householdType: string (nullable = true)\n",
      " |-- telephoneInHousehold: string (nullable = true)\n",
      " |-- accessToTelephoneElsewhere: string (nullable = true)\n",
      " |-- acceptableTelephoneInterview: string (nullable = true)\n",
      " |-- interviewType: string (nullable = true)\n",
      " |-- familyIncomeRange: string (nullable = true)\n",
      " |-- geoDivision: string (nullable = true)\n",
      " |-- race: string (nullable = true)\n",
      "\n"
     ]
    }
   ],
   "source": [
    "df_cps1.printSchema()"
   ]
  },
  {
   "cell_type": "markdown",
   "id": "db4db2bb",
   "metadata": {},
   "source": [
    "### checking for null values "
   ]
  },
  {
   "cell_type": "code",
   "execution_count": 16,
   "id": "f5d37939",
   "metadata": {},
   "outputs": [
    {
     "data": {
      "text/plain": [
       "Column<'((((((((((((householdId + 0) + interviewTime) + finalOutcome) + housingType) + householdType) + telephoneInHousehold) + accessToTelephoneElsewhere) + acceptableTelephoneInterview) + interviewType) + familyIncomeRange) + geoDivision) + race)'>"
      ]
     },
     "execution_count": 16,
     "metadata": {},
     "output_type": "execute_result"
    }
   ],
   "source": [
    "sum(df_cps1.where(reduce(lambda x, y: x | y, (func.col(x).isNull() for x in df_cps1.columns))))"
   ]
  },
  {
   "cell_type": "markdown",
   "id": "4ba6a0e3",
   "metadata": {},
   "source": [
    "### Checking for missing values"
   ]
  },
  {
   "cell_type": "code",
   "execution_count": 17,
   "id": "be1dfdd5",
   "metadata": {},
   "outputs": [
    {
     "name": "stderr",
     "output_type": "stream",
     "text": [
      "[Stage 39:==============>                                           (1 + 3) / 4]\r"
     ]
    },
    {
     "name": "stdout",
     "output_type": "stream",
     "text": [
      "[Row(count(CASE WHEN (isnan(race) OR (race IS NULL)) THEN race END)=0)]\n"
     ]
    },
    {
     "name": "stderr",
     "output_type": "stream",
     "text": [
      "\r",
      "                                                                                \r"
     ]
    }
   ],
   "source": [
    "for x in df_cps1.columns:\n",
    "    list_of_values = df_cps1.select([count(when(isnan(x) | col(x).isNull(), x))]).collect()\n",
    "print(list_of_values)"
   ]
  },
  {
   "cell_type": "markdown",
   "id": "1c7741ed",
   "metadata": {},
   "source": [
    "## Decoding the required encoded columns"
   ]
  },
  {
   "cell_type": "markdown",
   "id": "c27c7e84",
   "metadata": {},
   "source": [
    "### decoding 'family income range'"
   ]
  },
  {
   "cell_type": "code",
   "execution_count": 18,
   "id": "431c2792",
   "metadata": {},
   "outputs": [],
   "source": [
    "new_df = df_cps1.withColumn(\"new_FamilyIncomeRange\",\n",
    "                                when(col(\"familyIncomeRange\")==\"1\", lit(\"0-5000\")).\n",
    "                                when(col(\"familyIncomeRange\")==\"2\", lit(\"5000-7499\")).\n",
    "                                when(col(\"familyIncomeRange\")==\"3\", lit(\"7500-9999\")).\n",
    "                                when(col(\"familyIncomeRange\")==\"4\", lit(\"10000-12499\")).\n",
    "                                when(col(\"familyIncomeRange\")==\"5\", lit(\"12500-14499\")).\n",
    "                                when(col(\"familyIncomeRange\")==\"6\", lit(\"15000-19999\")).\n",
    "                                when(col(\"familyIncomeRange\")==\"7\", lit(\"20000-24999\")).\n",
    "                                when(col(\"familyIncomeRange\")==\"8\", lit(\"25000-29999\")).\n",
    "                                when(col(\"familyIncomeRange\")==\"9\", lit(\"30000-34999\")).\n",
    "                                when(col(\"familyIncomeRange\")==\"10\",lit(\"35000-39999\")).\n",
    "                                when(col(\"familyIncomeRange\")==\"11\",lit(\"40000-49999\")).\n",
    "                                when(col(\"familyIncomeRange\")==\"12\",lit(\"50000-59999\")).\n",
    "                                when(col(\"familyIncomeRange\")==\"13\",lit(\"60000-74999\")).\n",
    "                                when(col(\"familyIncomeRange\")==\"14\",lit(\"75000-99999\")).\n",
    "                                when(col(\"familyIncomeRange\")==\"15\",lit(\"100000-149999\")).\n",
    "                                when(col(\"familyIncomeRange\")==\"16\",lit(\"150000...\")).\n",
    "                                otherwise(lit(\"not_applicable\")))\n"
   ]
  },
  {
   "cell_type": "code",
   "execution_count": 19,
   "id": "9e60bb2a",
   "metadata": {},
   "outputs": [
    {
     "name": "stdout",
     "output_type": "stream",
     "text": [
      "+--------------------+-------------+------------+-----------+-------------+--------------------+--------------------------+----------------------------+-------------+-----------------+-----------+----+---------------------+\n",
      "|         householdId|interviewTime|finalOutcome|housingType|householdType|telephoneInHousehold|accessToTelephoneElsewhere|acceptableTelephoneInterview|interviewType|familyIncomeRange|geoDivision|race|new_FamilyIncomeRange|\n",
      "+--------------------+-------------+------------+-----------+-------------+--------------------+--------------------------+----------------------------+-------------+-----------------+-----------+----+---------------------+\n",
      "|00000479511071906011|     2017/Dec|         201|          1|            1|                   1|                        -1|                           1|            2|                9|          6|   1|       not_applicable|\n",
      "|00000479511071906011|     2017/Dec|         201|          1|            1|                   1|                        -1|                           1|            2|                9|          6|   1|       not_applicable|\n",
      "|00007169100494106111|     2017/Dec|         201|          1|            1|                   1|                        -1|                           1|            1|               11|          6|   1|          40000-49999|\n",
      "|00007169100494106111|     2017/Dec|         201|          1|            1|                   1|                        -1|                           1|            1|               11|          6|   1|          40000-49999|\n",
      "|00007169100494106111|     2017/Dec|         201|          1|            1|                   1|                        -1|                           1|            1|               11|          6|   1|          40000-49999|\n",
      "+--------------------+-------------+------------+-----------+-------------+--------------------+--------------------------+----------------------------+-------------+-----------------+-----------+----+---------------------+\n",
      "only showing top 5 rows\n",
      "\n"
     ]
    }
   ],
   "source": [
    "new_df.show(5)"
   ]
  },
  {
   "cell_type": "markdown",
   "id": "ebc1db2d",
   "metadata": {},
   "source": [
    "### decoding 'geographical division'"
   ]
  },
  {
   "cell_type": "code",
   "execution_count": 20,
   "id": "bc4468c6",
   "metadata": {},
   "outputs": [],
   "source": [
    "new_df = new_df.withColumn(\"new_geoDivision\", \n",
    "                            when(col(\"geoDivision\") == \"1\", lit(\"New England\")).\n",
    "                            when(col(\"geoDivision\") == \"2\", lit(\"Middle Atlantic\")).\n",
    "                            when(col(\"geoDivision\") == \"3\", lit(\"East North Central\")).\n",
    "                            when(col(\"geoDivision\") == \"4\", lit(\"West North Central\")).\n",
    "                            when(col(\"geoDivision\") == \"5\", lit(\"South Atlantic\")).\n",
    "                            when(col(\"geoDivision\") == \"6\", lit(\"East South Central\")).\n",
    "                            when(col(\"geoDivision\") == \"7\", lit(\"West South Central\")).\n",
    "                            when(col(\"geoDivision\") == \"8\", lit(\"Mountain\")).\n",
    "                            when(col(\"geoDivision\") == \"9\", lit(\"Pacific\")).\n",
    "                            otherwise(lit(\"not_applicable\")))"
   ]
  },
  {
   "cell_type": "code",
   "execution_count": 21,
   "id": "d8a68385",
   "metadata": {},
   "outputs": [
    {
     "name": "stdout",
     "output_type": "stream",
     "text": [
      "+--------------------+-------------+------------+-----------+-------------+--------------------+--------------------------+----------------------------+-------------+-----------------+-----------+----+---------------------+------------------+\n",
      "|         householdId|interviewTime|finalOutcome|housingType|householdType|telephoneInHousehold|accessToTelephoneElsewhere|acceptableTelephoneInterview|interviewType|familyIncomeRange|geoDivision|race|new_FamilyIncomeRange|   new_geoDivision|\n",
      "+--------------------+-------------+------------+-----------+-------------+--------------------+--------------------------+----------------------------+-------------+-----------------+-----------+----+---------------------+------------------+\n",
      "|00000479511071906011|     2017/Dec|         201|          1|            1|                   1|                        -1|                           1|            2|                9|          6|   1|       not_applicable|East South Central|\n",
      "|00000479511071906011|     2017/Dec|         201|          1|            1|                   1|                        -1|                           1|            2|                9|          6|   1|       not_applicable|East South Central|\n",
      "|00007169100494106111|     2017/Dec|         201|          1|            1|                   1|                        -1|                           1|            1|               11|          6|   1|          40000-49999|East South Central|\n",
      "|00007169100494106111|     2017/Dec|         201|          1|            1|                   1|                        -1|                           1|            1|               11|          6|   1|          40000-49999|East South Central|\n",
      "|00007169100494106111|     2017/Dec|         201|          1|            1|                   1|                        -1|                           1|            1|               11|          6|   1|          40000-49999|East South Central|\n",
      "+--------------------+-------------+------------+-----------+-------------+--------------------+--------------------------+----------------------------+-------------+-----------------+-----------+----+---------------------+------------------+\n",
      "only showing top 5 rows\n",
      "\n"
     ]
    }
   ],
   "source": [
    "new_df.show(5)"
   ]
  },
  {
   "cell_type": "markdown",
   "id": "3c453420",
   "metadata": {},
   "source": [
    "### decoding 'race'"
   ]
  },
  {
   "cell_type": "code",
   "execution_count": 22,
   "id": "8d9f9fb5",
   "metadata": {
    "scrolled": true
   },
   "outputs": [],
   "source": [
    "new_df=new_df.withColumn(\"new_Race\",\n",
    "                           when(col(\"race\") == \" 1\", lit(\"White Only\")).\n",
    "                           when(col(\"race\") == \" 2\", lit(\"Black Only\")).\n",
    "                           when(col(\"race\") == \" 3\", lit(\"American Indian,Alaskan Native Only\")).\n",
    "                           when(col(\"race\") == \" 4\", lit(\"Asian Only\")).\n",
    "                           when(col(\"race\") == \" 5\", lit(\"Hawaiian/Pacific Islander Only\")).\n",
    "                           when(col(\"race\") == \" 6\", lit(\"White-Black\")).\n",
    "                           when(col(\"race\") == \" 7\", lit(\"White-AI\")).\n",
    "                           when(col(\"race\") == \" 8\", lit(\"White-Asian\")).\n",
    "                           when(col(\"race\") == \" 9\", lit(\"White-HP\")).\n",
    "                           when(col(\"race\") == \"10\", lit(\"Black-AI\")).\n",
    "                           when(col(\"race\") == \"11\", lit(\"Black-Asian\")).\n",
    "                           when(col(\"race\") == \"12\", lit(\"Black-HP\")).\n",
    "                           when(col(\"race\") == \"13\", lit(\"AI-Asian\")).\n",
    "                           when(col(\"race\") == \"14\", lit(\"AI-HP\")).\n",
    "                           when(col(\"race\") == \"15\", lit(\"Asian-HP\")).\n",
    "                           when(col(\"race\") == \"16\", lit(\"W-B-AI\")).\n",
    "                           when(col(\"race\") == \"17\", lit(\"W-B-A\")).\n",
    "                           when(col(\"race\") == \"18\", lit(\"W-B-HP\")).\n",
    "                           when(col(\"race\") == \"19\", lit(\"W-AI-A\")).\n",
    "                           when(col(\"race\") == \"20\", lit(\"W-AI-HP\")).\n",
    "                           when(col(\"race\") == \"21\", lit(\"W-A-HP\")).\n",
    "                           when(col(\"race\") == \"22\", lit(\"B-AI-A\")).\n",
    "                           when(col(\"race\") == \"23\", lit(\"W-B-AI-A\")).\n",
    "                           when(col(\"race\") == \"24\", lit(\"W-AI-A-HP\")).\n",
    "                           when(col(\"race\") == \"25\", lit(\"Other 3 Race Combinations\")).\n",
    "                           when(col(\"race\") == \"26\", lit(\"Other 4 and 5 Race Combinations\")).\n",
    "                           otherwise(lit(\"not_applicable\")))"
   ]
  },
  {
   "cell_type": "code",
   "execution_count": 23,
   "id": "cb48e4ab",
   "metadata": {},
   "outputs": [
    {
     "name": "stdout",
     "output_type": "stream",
     "text": [
      "+--------------------+-------------+------------+-----------+-------------+--------------------+--------------------------+----------------------------+-------------+-----------------+-----------+----+---------------------+------------------+----------+\n",
      "|         householdId|interviewTime|finalOutcome|housingType|householdType|telephoneInHousehold|accessToTelephoneElsewhere|acceptableTelephoneInterview|interviewType|familyIncomeRange|geoDivision|race|new_FamilyIncomeRange|   new_geoDivision|  new_Race|\n",
      "+--------------------+-------------+------------+-----------+-------------+--------------------+--------------------------+----------------------------+-------------+-----------------+-----------+----+---------------------+------------------+----------+\n",
      "|00000479511071906011|     2017/Dec|         201|          1|            1|                   1|                        -1|                           1|            2|                9|          6|   1|       not_applicable|East South Central|White Only|\n",
      "|00000479511071906011|     2017/Dec|         201|          1|            1|                   1|                        -1|                           1|            2|                9|          6|   1|       not_applicable|East South Central|White Only|\n",
      "|00007169100494106111|     2017/Dec|         201|          1|            1|                   1|                        -1|                           1|            1|               11|          6|   1|          40000-49999|East South Central|White Only|\n",
      "|00007169100494106111|     2017/Dec|         201|          1|            1|                   1|                        -1|                           1|            1|               11|          6|   1|          40000-49999|East South Central|White Only|\n",
      "|00007169100494106111|     2017/Dec|         201|          1|            1|                   1|                        -1|                           1|            1|               11|          6|   1|          40000-49999|East South Central|White Only|\n",
      "+--------------------+-------------+------------+-----------+-------------+--------------------+--------------------------+----------------------------+-------------+-----------------+-----------+----+---------------------+------------------+----------+\n",
      "only showing top 5 rows\n",
      "\n"
     ]
    }
   ],
   "source": [
    "new_df.show(5)"
   ]
  },
  {
   "cell_type": "markdown",
   "id": "cf1730d3",
   "metadata": {},
   "source": [
    "### decoding 'household has a telephone'"
   ]
  },
  {
   "cell_type": "code",
   "execution_count": 24,
   "id": "f7a5f6ac",
   "metadata": {},
   "outputs": [],
   "source": [
    "new_df = new_df.withColumn(\"new_telephoneInHousehold\",\n",
    "                          when(col(\"telephoneInHousehold\") == \" 1\", lit(\"Yes\")).\n",
    "                          when(col(\"telephoneInHousehold\") == \" 2\", lit(\"No\")).\n",
    "                          otherwise(lit(\"not_applicable\")))\n",
    "                           "
   ]
  },
  {
   "cell_type": "code",
   "execution_count": 25,
   "id": "156554d1",
   "metadata": {},
   "outputs": [
    {
     "name": "stdout",
     "output_type": "stream",
     "text": [
      "+--------------------+-------------+------------+-----------+-------------+--------------------+--------------------------+----------------------------+-------------+-----------------+-----------+----+---------------------+------------------+----------+------------------------+\n",
      "|         householdId|interviewTime|finalOutcome|housingType|householdType|telephoneInHousehold|accessToTelephoneElsewhere|acceptableTelephoneInterview|interviewType|familyIncomeRange|geoDivision|race|new_FamilyIncomeRange|   new_geoDivision|  new_Race|new_telephoneInHousehold|\n",
      "+--------------------+-------------+------------+-----------+-------------+--------------------+--------------------------+----------------------------+-------------+-----------------+-----------+----+---------------------+------------------+----------+------------------------+\n",
      "|00000479511071906011|     2017/Dec|         201|          1|            1|                   1|                        -1|                           1|            2|                9|          6|   1|       not_applicable|East South Central|White Only|                     Yes|\n",
      "|00000479511071906011|     2017/Dec|         201|          1|            1|                   1|                        -1|                           1|            2|                9|          6|   1|       not_applicable|East South Central|White Only|                     Yes|\n",
      "|00007169100494106111|     2017/Dec|         201|          1|            1|                   1|                        -1|                           1|            1|               11|          6|   1|          40000-49999|East South Central|White Only|                     Yes|\n",
      "|00007169100494106111|     2017/Dec|         201|          1|            1|                   1|                        -1|                           1|            1|               11|          6|   1|          40000-49999|East South Central|White Only|                     Yes|\n",
      "|00007169100494106111|     2017/Dec|         201|          1|            1|                   1|                        -1|                           1|            1|               11|          6|   1|          40000-49999|East South Central|White Only|                     Yes|\n",
      "+--------------------+-------------+------------+-----------+-------------+--------------------+--------------------------+----------------------------+-------------+-----------------+-----------+----+---------------------+------------------+----------+------------------------+\n",
      "only showing top 5 rows\n",
      "\n"
     ]
    }
   ],
   "source": [
    "new_df.show(5)"
   ]
  },
  {
   "cell_type": "markdown",
   "id": "fedbab2f",
   "metadata": {},
   "source": [
    "### decoding 'household can access a telephone elsewhere'"
   ]
  },
  {
   "cell_type": "code",
   "execution_count": 26,
   "id": "e4398b74",
   "metadata": {},
   "outputs": [],
   "source": [
    "new_df = new_df.withColumn(\"new_AccessToTelephoneElsewhere\",\n",
    "                          when(col(\"accessToTelephoneElsewhere\") == \" 1\", lit(\"Yes\")).\n",
    "                          when(col(\"accessToTelephoneElsewhere\") == \" 2\", lit(\"No\")).\n",
    "                          otherwise(lit(\"not_applicable\")))"
   ]
  },
  {
   "cell_type": "code",
   "execution_count": 27,
   "id": "2da85715",
   "metadata": {},
   "outputs": [
    {
     "name": "stdout",
     "output_type": "stream",
     "text": [
      "+--------------------+-------------+------------+-----------+-------------+--------------------+--------------------------+----------------------------+-------------+-----------------+-----------+----+---------------------+------------------+----------+------------------------+------------------------------+\n",
      "|         householdId|interviewTime|finalOutcome|housingType|householdType|telephoneInHousehold|accessToTelephoneElsewhere|acceptableTelephoneInterview|interviewType|familyIncomeRange|geoDivision|race|new_FamilyIncomeRange|   new_geoDivision|  new_Race|new_telephoneInHousehold|new_AccessToTelephoneElsewhere|\n",
      "+--------------------+-------------+------------+-----------+-------------+--------------------+--------------------------+----------------------------+-------------+-----------------+-----------+----+---------------------+------------------+----------+------------------------+------------------------------+\n",
      "|00000479511071906011|     2017/Dec|         201|          1|            1|                   1|                        -1|                           1|            2|                9|          6|   1|       not_applicable|East South Central|White Only|                     Yes|                not_applicable|\n",
      "|00000479511071906011|     2017/Dec|         201|          1|            1|                   1|                        -1|                           1|            2|                9|          6|   1|       not_applicable|East South Central|White Only|                     Yes|                not_applicable|\n",
      "|00007169100494106111|     2017/Dec|         201|          1|            1|                   1|                        -1|                           1|            1|               11|          6|   1|          40000-49999|East South Central|White Only|                     Yes|                not_applicable|\n",
      "|00007169100494106111|     2017/Dec|         201|          1|            1|                   1|                        -1|                           1|            1|               11|          6|   1|          40000-49999|East South Central|White Only|                     Yes|                not_applicable|\n",
      "|00007169100494106111|     2017/Dec|         201|          1|            1|                   1|                        -1|                           1|            1|               11|          6|   1|          40000-49999|East South Central|White Only|                     Yes|                not_applicable|\n",
      "+--------------------+-------------+------------+-----------+-------------+--------------------+--------------------------+----------------------------+-------------+-----------------+-----------+----+---------------------+------------------+----------+------------------------+------------------------------+\n",
      "only showing top 5 rows\n",
      "\n"
     ]
    }
   ],
   "source": [
    "new_df.show(5)"
   ]
  },
  {
   "cell_type": "markdown",
   "id": "562f935e",
   "metadata": {},
   "source": [
    "### decoding 'Is telephone interview acceptable'"
   ]
  },
  {
   "cell_type": "code",
   "execution_count": 28,
   "id": "bdc7b38f",
   "metadata": {},
   "outputs": [],
   "source": [
    "new_df = new_df.withColumn(\"new_acceptableTelephoneInterview\",\n",
    "                          when(col(\"acceptableTelephoneInterview\") == \" 1\", lit(\"Yes\")).\n",
    "                          otherwise(lit(\"not_applicable\")))"
   ]
  },
  {
   "cell_type": "code",
   "execution_count": 29,
   "id": "290c3fdb",
   "metadata": {
    "scrolled": true
   },
   "outputs": [
    {
     "name": "stdout",
     "output_type": "stream",
     "text": [
      "+--------------------+-------------+------------+-----------+-------------+--------------------+--------------------------+----------------------------+-------------+-----------------+-----------+----+---------------------+------------------+----------+------------------------+------------------------------+--------------------------------+\n",
      "|         householdId|interviewTime|finalOutcome|housingType|householdType|telephoneInHousehold|accessToTelephoneElsewhere|acceptableTelephoneInterview|interviewType|familyIncomeRange|geoDivision|race|new_FamilyIncomeRange|   new_geoDivision|  new_Race|new_telephoneInHousehold|new_AccessToTelephoneElsewhere|new_acceptableTelephoneInterview|\n",
      "+--------------------+-------------+------------+-----------+-------------+--------------------+--------------------------+----------------------------+-------------+-----------------+-----------+----+---------------------+------------------+----------+------------------------+------------------------------+--------------------------------+\n",
      "|00000479511071906011|     2017/Dec|         201|          1|            1|                   1|                        -1|                           1|            2|                9|          6|   1|       not_applicable|East South Central|White Only|                     Yes|                not_applicable|                             Yes|\n",
      "|00000479511071906011|     2017/Dec|         201|          1|            1|                   1|                        -1|                           1|            2|                9|          6|   1|       not_applicable|East South Central|White Only|                     Yes|                not_applicable|                             Yes|\n",
      "|00007169100494106111|     2017/Dec|         201|          1|            1|                   1|                        -1|                           1|            1|               11|          6|   1|          40000-49999|East South Central|White Only|                     Yes|                not_applicable|                             Yes|\n",
      "|00007169100494106111|     2017/Dec|         201|          1|            1|                   1|                        -1|                           1|            1|               11|          6|   1|          40000-49999|East South Central|White Only|                     Yes|                not_applicable|                             Yes|\n",
      "|00007169100494106111|     2017/Dec|         201|          1|            1|                   1|                        -1|                           1|            1|               11|          6|   1|          40000-49999|East South Central|White Only|                     Yes|                not_applicable|                             Yes|\n",
      "+--------------------+-------------+------------+-----------+-------------+--------------------+--------------------------+----------------------------+-------------+-----------------+-----------+----+---------------------+------------------+----------+------------------------+------------------------------+--------------------------------+\n",
      "only showing top 5 rows\n",
      "\n"
     ]
    }
   ],
   "source": [
    "new_df.show(5)"
   ]
  },
  {
   "cell_type": "markdown",
   "id": "2ccb6c0d",
   "metadata": {},
   "source": [
    "### dropping the encoded columns"
   ]
  },
  {
   "cell_type": "code",
   "execution_count": 30,
   "id": "49c54e58",
   "metadata": {},
   "outputs": [],
   "source": [
    "new_ddf = new_df.drop(\"familyIncomeRange\",\"geoDivision\",\"race\",\"telephoneInHousehold\",\"accessToTelephoneElsewhere\",\"acceptableTelephoneInterview\")"
   ]
  },
  {
   "cell_type": "code",
   "execution_count": 31,
   "id": "10536b11",
   "metadata": {
    "scrolled": true
   },
   "outputs": [
    {
     "name": "stdout",
     "output_type": "stream",
     "text": [
      "+--------------------+-------------+------------+-----------+-------------+-------------+---------------------+------------------+----------+------------------------+------------------------------+--------------------------------+\n",
      "|         householdId|interviewTime|finalOutcome|housingType|householdType|interviewType|new_FamilyIncomeRange|   new_geoDivision|  new_Race|new_telephoneInHousehold|new_AccessToTelephoneElsewhere|new_acceptableTelephoneInterview|\n",
      "+--------------------+-------------+------------+-----------+-------------+-------------+---------------------+------------------+----------+------------------------+------------------------------+--------------------------------+\n",
      "|00000479511071906011|     2017/Dec|         201|          1|            1|            2|       not_applicable|East South Central|White Only|                     Yes|                not_applicable|                             Yes|\n",
      "|00000479511071906011|     2017/Dec|         201|          1|            1|            2|       not_applicable|East South Central|White Only|                     Yes|                not_applicable|                             Yes|\n",
      "|00007169100494106111|     2017/Dec|         201|          1|            1|            1|          40000-49999|East South Central|White Only|                     Yes|                not_applicable|                             Yes|\n",
      "|00007169100494106111|     2017/Dec|         201|          1|            1|            1|          40000-49999|East South Central|White Only|                     Yes|                not_applicable|                             Yes|\n",
      "|00007169100494106111|     2017/Dec|         201|          1|            1|            1|          40000-49999|East South Central|White Only|                     Yes|                not_applicable|                             Yes|\n",
      "+--------------------+-------------+------------+-----------+-------------+-------------+---------------------+------------------+----------+------------------------+------------------------------+--------------------------------+\n",
      "only showing top 5 rows\n",
      "\n"
     ]
    }
   ],
   "source": [
    "new_ddf.show(5)"
   ]
  },
  {
   "cell_type": "markdown",
   "id": "63ffc4d6",
   "metadata": {},
   "source": [
    "## Question1\n"
   ]
  },
  {
   "cell_type": "markdown",
   "id": "1a5f069e",
   "metadata": {},
   "source": [
    "### Selecting columns that are important for the analysis"
   ]
  },
  {
   "cell_type": "code",
   "execution_count": 32,
   "id": "5babe2bc",
   "metadata": {},
   "outputs": [
    {
     "name": "stdout",
     "output_type": "stream",
     "text": [
      "+--------------------+---------------------+\n",
      "|         householdId|new_FamilyIncomeRange|\n",
      "+--------------------+---------------------+\n",
      "|00000479511071906011|       not_applicable|\n",
      "|00000479511071906011|       not_applicable|\n",
      "|00007169100494106111|          40000-49999|\n",
      "|00007169100494106111|          40000-49999|\n",
      "|00007169100494106111|          40000-49999|\n",
      "+--------------------+---------------------+\n",
      "only showing top 5 rows\n",
      "\n"
     ]
    }
   ],
   "source": [
    "responders_per_family_income_range_df = new_ddf.select(\"householdId\",\"new_FamilyIncomeRange\")\n",
    "responders_per_family_income_range_df.show(5)"
   ]
  },
  {
   "cell_type": "markdown",
   "id": "0d6da9e4",
   "metadata": {},
   "source": [
    "### Grouping and sorting in other to get the top 10 count based on householdId"
   ]
  },
  {
   "cell_type": "code",
   "execution_count": 38,
   "id": "02f8b161",
   "metadata": {},
   "outputs": [],
   "source": [
    "df_cps = responders_per_family_income_range_df.groupBy(\"householdId\",\"new_FamilyIncomeRange\").count()\n",
    "top_ten_fam = df_cps.sort(col(\"count\").desc())"
   ]
  },
  {
   "cell_type": "markdown",
   "id": "d748c1cf",
   "metadata": {},
   "source": [
    "### Converting into pandas in order to visualize using pandas method"
   ]
  },
  {
   "cell_type": "code",
   "execution_count": 39,
   "id": "ec69070f",
   "metadata": {},
   "outputs": [
    {
     "name": "stderr",
     "output_type": "stream",
     "text": [
      "/mnt/spark/python/pyspark/sql/dataframe.py:3313: FutureWarning: DataFrame.to_pandas_on_spark is deprecated. Use DataFrame.pandas_api instead.\n",
      "  warnings.warn(\n",
      "WARNING:root:'PYARROW_IGNORE_TIMEZONE' environment variable was not set. It is required to set this environment variable to '1' in both driver and executor sides if you use pyarrow>=2.0.0. pandas-on-Spark will set it for you but it does not work if there is a Spark context already launched.\n",
      "                                                                                \r"
     ]
    },
    {
     "data": {
      "text/html": [
       "<div>\n",
       "<style scoped>\n",
       "    .dataframe tbody tr th:only-of-type {\n",
       "        vertical-align: middle;\n",
       "    }\n",
       "\n",
       "    .dataframe tbody tr th {\n",
       "        vertical-align: top;\n",
       "    }\n",
       "\n",
       "    .dataframe thead th {\n",
       "        text-align: right;\n",
       "    }\n",
       "</style>\n",
       "<table border=\"1\" class=\"dataframe\">\n",
       "  <thead>\n",
       "    <tr style=\"text-align: right;\">\n",
       "      <th></th>\n",
       "      <th>householdId</th>\n",
       "      <th>new_FamilyIncomeRange</th>\n",
       "      <th>count</th>\n",
       "    </tr>\n",
       "  </thead>\n",
       "  <tbody>\n",
       "    <tr>\n",
       "      <th>0</th>\n",
       "      <td>17136002800228507011</td>\n",
       "      <td>150000...</td>\n",
       "      <td>14</td>\n",
       "    </tr>\n",
       "    <tr>\n",
       "      <th>1</th>\n",
       "      <td>65495620125100906011</td>\n",
       "      <td>40000-49999</td>\n",
       "      <td>13</td>\n",
       "    </tr>\n",
       "    <tr>\n",
       "      <th>2</th>\n",
       "      <td>20694090797100407011</td>\n",
       "      <td>75000-99999</td>\n",
       "      <td>13</td>\n",
       "    </tr>\n",
       "    <tr>\n",
       "      <th>3</th>\n",
       "      <td>16002611040711006011</td>\n",
       "      <td>150000...</td>\n",
       "      <td>12</td>\n",
       "    </tr>\n",
       "    <tr>\n",
       "      <th>4</th>\n",
       "      <td>41020360025347607011</td>\n",
       "      <td>60000-74999</td>\n",
       "      <td>12</td>\n",
       "    </tr>\n",
       "    <tr>\n",
       "      <th>5</th>\n",
       "      <td>20061136481416406011</td>\n",
       "      <td>50000-59999</td>\n",
       "      <td>12</td>\n",
       "    </tr>\n",
       "    <tr>\n",
       "      <th>6</th>\n",
       "      <td>01051409682959106011</td>\n",
       "      <td>150000...</td>\n",
       "      <td>12</td>\n",
       "    </tr>\n",
       "    <tr>\n",
       "      <th>7</th>\n",
       "      <td>78548093966100306011</td>\n",
       "      <td>75000-99999</td>\n",
       "      <td>12</td>\n",
       "    </tr>\n",
       "    <tr>\n",
       "      <th>8</th>\n",
       "      <td>03091015830821906011</td>\n",
       "      <td>35000-39999</td>\n",
       "      <td>12</td>\n",
       "    </tr>\n",
       "    <tr>\n",
       "      <th>9</th>\n",
       "      <td>05031242797854106011</td>\n",
       "      <td>not_applicable</td>\n",
       "      <td>12</td>\n",
       "    </tr>\n",
       "  </tbody>\n",
       "</table>\n",
       "</div>"
      ],
      "text/plain": [
       "            householdId new_FamilyIncomeRange  count\n",
       "0  17136002800228507011             150000...     14\n",
       "1  65495620125100906011           40000-49999     13\n",
       "2  20694090797100407011           75000-99999     13\n",
       "3  16002611040711006011             150000...     12\n",
       "4  41020360025347607011           60000-74999     12\n",
       "5  20061136481416406011           50000-59999     12\n",
       "6  01051409682959106011             150000...     12\n",
       "7  78548093966100306011           75000-99999     12\n",
       "8  03091015830821906011           35000-39999     12\n",
       "9  05031242797854106011        not_applicable     12"
      ]
     },
     "execution_count": 39,
     "metadata": {},
     "output_type": "execute_result"
    }
   ],
   "source": [
    "pandasDF = top_ten_fam.to_pandas_on_spark()\n",
    "pandasDF.head(10)"
   ]
  },
  {
   "cell_type": "markdown",
   "id": "94a08fea",
   "metadata": {},
   "source": [
    "### Question 2"
   ]
  },
  {
   "cell_type": "markdown",
   "id": "d0738b93",
   "metadata": {},
   "source": [
    "### Getting the count of responders per geographical division as regards race"
   ]
  },
  {
   "cell_type": "code",
   "execution_count": 40,
   "id": "7ef8566c",
   "metadata": {},
   "outputs": [
    {
     "name": "stdout",
     "output_type": "stream",
     "text": [
      "+------------------+--------------+\n",
      "|   new_geoDivision|      new_race|\n",
      "+------------------+--------------+\n",
      "|East South Central|    White Only|\n",
      "|East South Central|    White Only|\n",
      "|East South Central|    White Only|\n",
      "|East South Central|    White Only|\n",
      "|East South Central|    White Only|\n",
      "|East South Central|    Black Only|\n",
      "|East South Central|    Black Only|\n",
      "|East South Central|not_applicable|\n",
      "|East South Central|    White Only|\n",
      "|East South Central|    Black Only|\n",
      "|East South Central|    Black Only|\n",
      "|East South Central|    Black Only|\n",
      "|East South Central|    Black Only|\n",
      "|East South Central|    Black Only|\n",
      "|East South Central|    White Only|\n",
      "|East South Central|    White Only|\n",
      "|East South Central|    Black Only|\n",
      "|East South Central|    Black Only|\n",
      "|East South Central|    White Only|\n",
      "|East South Central|    White Only|\n",
      "+------------------+--------------+\n",
      "only showing top 20 rows\n",
      "\n"
     ]
    }
   ],
   "source": [
    "responders_per_race = new_ddf.select(\"new_geoDivision\",\"new_race\")\n",
    "responders_per_race.show()"
   ]
  },
  {
   "cell_type": "markdown",
   "id": "5534cc87",
   "metadata": {},
   "source": [
    "### Grouping and sorting in other to get the top 10 count based on geographical location"
   ]
  },
  {
   "cell_type": "code",
   "execution_count": 41,
   "id": "f1535c8c",
   "metadata": {},
   "outputs": [
    {
     "name": "stderr",
     "output_type": "stream",
     "text": [
      "\r",
      "[Stage 59:>                                                         (0 + 4) / 4]\r"
     ]
    },
    {
     "name": "stdout",
     "output_type": "stream",
     "text": [
      "+------------------+----------+-----+\n",
      "|   new_geoDivision|  new_race|count|\n",
      "+------------------+----------+-----+\n",
      "|    South Atlantic|White Only|16999|\n",
      "|          Mountain|White Only|14343|\n",
      "|           Pacific|White Only|13214|\n",
      "|East North Central|White Only|11325|\n",
      "|West South Central|White Only|11248|\n",
      "|West North Central|White Only| 9884|\n",
      "|   Middle Atlantic|White Only| 8487|\n",
      "|       New England|White Only| 8410|\n",
      "|East South Central|White Only| 6580|\n",
      "|    South Atlantic|Black Only| 4899|\n",
      "+------------------+----------+-----+\n",
      "only showing top 10 rows\n",
      "\n"
     ]
    },
    {
     "name": "stderr",
     "output_type": "stream",
     "text": [
      "\r",
      "                                                                                \r"
     ]
    }
   ],
   "source": [
    "responders_per_geo_loc_div_race = responders_per_race.groupBy(\"new_geoDivision\", \"new_race\").count()\n",
    "top_ten_geo = responders_per_geo_loc_div_race.sort(col(\"count\").desc())\n",
    "top_ten_geo.show(10)"
   ]
  },
  {
   "cell_type": "markdown",
   "id": "5e257c2b",
   "metadata": {},
   "source": [
    "## Question 3\n",
    "### How many responders do not have telephone in their house, but can access a telephone elsewhere and telephone interview is accepted (show top 10)?"
   ]
  },
  {
   "cell_type": "code",
   "execution_count": 43,
   "id": "db6e79a2",
   "metadata": {},
   "outputs": [
    {
     "name": "stdout",
     "output_type": "stream",
     "text": [
      "+--------------------+------------------------+------------------------------+--------------------------------+\n",
      "|         householdId|new_telephoneInHousehold|new_AccessToTelephoneElsewhere|new_acceptableTelephoneInterview|\n",
      "+--------------------+------------------------+------------------------------+--------------------------------+\n",
      "|00000479511071906011|                     Yes|                not_applicable|                             Yes|\n",
      "|00000479511071906011|                     Yes|                not_applicable|                             Yes|\n",
      "|00007169100494106111|                     Yes|                not_applicable|                             Yes|\n",
      "|00007169100494106111|                     Yes|                not_applicable|                             Yes|\n",
      "|00007169100494106111|                     Yes|                not_applicable|                             Yes|\n",
      "|00011017798798608011|                     Yes|                not_applicable|                             Yes|\n",
      "|00011017798798608011|                     Yes|                not_applicable|                             Yes|\n",
      "|00011020659338108011|          not_applicable|                not_applicable|                  not_applicable|\n",
      "|00011028481568008111|                     Yes|                not_applicable|                             Yes|\n",
      "|00011032785646906111|                     Yes|                not_applicable|                             Yes|\n",
      "+--------------------+------------------------+------------------------------+--------------------------------+\n",
      "only showing top 10 rows\n",
      "\n"
     ]
    }
   ],
   "source": [
    "question3 = new_ddf.select(\"householdId\", \"new_telephoneInHousehold\", \"new_AccessToTelephoneElsewhere\", \"new_acceptableTelephoneInterview\")\n",
    "question3.show(10)"
   ]
  },
  {
   "cell_type": "markdown",
   "id": "96b061e0",
   "metadata": {},
   "source": [
    "### Filtering, grouping and taken the counts of rows in descending order "
   ]
  },
  {
   "cell_type": "code",
   "execution_count": 48,
   "id": "a610a04b",
   "metadata": {},
   "outputs": [
    {
     "name": "stdout",
     "output_type": "stream",
     "text": [
      "+--------------------+------------------------+------------------------------+--------------------------------+\n",
      "|         householdId|new_telephoneInHousehold|new_AccessToTelephoneElsewhere|new_acceptableTelephoneInterview|\n",
      "+--------------------+------------------------+------------------------------+--------------------------------+\n",
      "|18082060959110006012|                      No|                           Yes|                             Yes|\n",
      "|19805189600020106011|                      No|                           Yes|                             Yes|\n",
      "|03161060105100506011|                      No|                           Yes|                             Yes|\n",
      "|10016053056110006011|                      No|                           Yes|                             Yes|\n",
      "|28171000420025707111|                      No|                           Yes|                             Yes|\n",
      "|28171000420025707111|                      No|                           Yes|                             Yes|\n",
      "|28171000420025707111|                      No|                           Yes|                             Yes|\n",
      "|28171000420025707111|                      No|                           Yes|                             Yes|\n",
      "|28171000420025707111|                      No|                           Yes|                             Yes|\n",
      "|28171000420025707111|                      No|                           Yes|                             Yes|\n",
      "|66145050122100506011|                      No|                           Yes|                             Yes|\n",
      "|21302206121096906011|                      No|                           Yes|                             Yes|\n",
      "|21302206121096906011|                      No|                           Yes|                             Yes|\n",
      "|27706003926110007011|                      No|                           Yes|                             Yes|\n",
      "|17059002004587506012|                      No|                           Yes|                             Yes|\n",
      "|17059002004587506012|                      No|                           Yes|                             Yes|\n",
      "|42352095259110006011|                      No|                           Yes|                             Yes|\n",
      "|43174900960042707111|                      No|                           Yes|                             Yes|\n",
      "|45460880179100806011|                      No|                           Yes|                             Yes|\n",
      "|05400444400165106111|                      No|                           Yes|                             Yes|\n",
      "+--------------------+------------------------+------------------------------+--------------------------------+\n",
      "only showing top 20 rows\n",
      "\n"
     ]
    }
   ],
   "source": [
    "resp_no_access_phone = question3.filter((question3.new_telephoneInHousehold == \"No\") &\n",
    "                                        (question3.new_AccessToTelephoneElsewhere == \"Yes\") &\n",
    "                                        (question3.new_acceptableTelephoneInterview == \"Yes\"))\n",
    "resp_no_access_phone.show()\n",
    "\n",
    "resp_no_access_phone1 = resp_no_access_phone.groupBy(\"householdId\",\n",
    "                                         \"new_acceptableTelephoneInterview\", \n",
    "                                         \"new_AccessToTelephoneElsewhere\", \n",
    "                                         \"new_telephoneInHousehold\").count()\n",
    "\n",
    "top_ten_fam = resp_no_access_phone1.sort(col(\"count\").desc())"
   ]
  },
  {
   "cell_type": "markdown",
   "id": "051491f7",
   "metadata": {},
   "source": [
    "### Converting to pandas dataframe"
   ]
  },
  {
   "cell_type": "code",
   "execution_count": 49,
   "id": "8278abb9",
   "metadata": {},
   "outputs": [
    {
     "name": "stderr",
     "output_type": "stream",
     "text": [
      "                                                                                \r"
     ]
    },
    {
     "data": {
      "text/html": [
       "<div>\n",
       "<style scoped>\n",
       "    .dataframe tbody tr th:only-of-type {\n",
       "        vertical-align: middle;\n",
       "    }\n",
       "\n",
       "    .dataframe tbody tr th {\n",
       "        vertical-align: top;\n",
       "    }\n",
       "\n",
       "    .dataframe thead th {\n",
       "        text-align: right;\n",
       "    }\n",
       "</style>\n",
       "<table border=\"1\" class=\"dataframe\">\n",
       "  <thead>\n",
       "    <tr style=\"text-align: right;\">\n",
       "      <th></th>\n",
       "      <th>householdId</th>\n",
       "      <th>new_acceptableTelephoneInterview</th>\n",
       "      <th>new_AccessToTelephoneElsewhere</th>\n",
       "      <th>new_telephoneInHousehold</th>\n",
       "      <th>count</th>\n",
       "    </tr>\n",
       "  </thead>\n",
       "  <tbody>\n",
       "    <tr>\n",
       "      <th>0</th>\n",
       "      <td>13503264410435106011</td>\n",
       "      <td>Yes</td>\n",
       "      <td>Yes</td>\n",
       "      <td>No</td>\n",
       "      <td>8</td>\n",
       "    </tr>\n",
       "    <tr>\n",
       "      <th>1</th>\n",
       "      <td>08119602254072607011</td>\n",
       "      <td>Yes</td>\n",
       "      <td>Yes</td>\n",
       "      <td>No</td>\n",
       "      <td>7</td>\n",
       "    </tr>\n",
       "    <tr>\n",
       "      <th>2</th>\n",
       "      <td>28171000420025707111</td>\n",
       "      <td>Yes</td>\n",
       "      <td>Yes</td>\n",
       "      <td>No</td>\n",
       "      <td>6</td>\n",
       "    </tr>\n",
       "    <tr>\n",
       "      <th>3</th>\n",
       "      <td>90630208491072106011</td>\n",
       "      <td>Yes</td>\n",
       "      <td>Yes</td>\n",
       "      <td>No</td>\n",
       "      <td>6</td>\n",
       "    </tr>\n",
       "    <tr>\n",
       "      <th>4</th>\n",
       "      <td>97817059269120406011</td>\n",
       "      <td>Yes</td>\n",
       "      <td>Yes</td>\n",
       "      <td>No</td>\n",
       "      <td>6</td>\n",
       "    </tr>\n",
       "    <tr>\n",
       "      <th>5</th>\n",
       "      <td>41000278125151206011</td>\n",
       "      <td>Yes</td>\n",
       "      <td>Yes</td>\n",
       "      <td>No</td>\n",
       "      <td>5</td>\n",
       "    </tr>\n",
       "    <tr>\n",
       "      <th>6</th>\n",
       "      <td>81000414076269607011</td>\n",
       "      <td>Yes</td>\n",
       "      <td>Yes</td>\n",
       "      <td>No</td>\n",
       "      <td>5</td>\n",
       "    </tr>\n",
       "    <tr>\n",
       "      <th>7</th>\n",
       "      <td>96430076554110007011</td>\n",
       "      <td>Yes</td>\n",
       "      <td>Yes</td>\n",
       "      <td>No</td>\n",
       "      <td>5</td>\n",
       "    </tr>\n",
       "    <tr>\n",
       "      <th>8</th>\n",
       "      <td>10196319080002406011</td>\n",
       "      <td>Yes</td>\n",
       "      <td>Yes</td>\n",
       "      <td>No</td>\n",
       "      <td>5</td>\n",
       "    </tr>\n",
       "    <tr>\n",
       "      <th>9</th>\n",
       "      <td>13169102010096006011</td>\n",
       "      <td>Yes</td>\n",
       "      <td>Yes</td>\n",
       "      <td>No</td>\n",
       "      <td>5</td>\n",
       "    </tr>\n",
       "  </tbody>\n",
       "</table>\n",
       "</div>"
      ],
      "text/plain": [
       "            householdId new_acceptableTelephoneInterview  \\\n",
       "0  13503264410435106011                              Yes   \n",
       "1  08119602254072607011                              Yes   \n",
       "2  28171000420025707111                              Yes   \n",
       "3  90630208491072106011                              Yes   \n",
       "4  97817059269120406011                              Yes   \n",
       "5  41000278125151206011                              Yes   \n",
       "6  81000414076269607011                              Yes   \n",
       "7  96430076554110007011                              Yes   \n",
       "8  10196319080002406011                              Yes   \n",
       "9  13169102010096006011                              Yes   \n",
       "\n",
       "  new_AccessToTelephoneElsewhere new_telephoneInHousehold  count  \n",
       "0                            Yes                       No      8  \n",
       "1                            Yes                       No      7  \n",
       "2                            Yes                       No      6  \n",
       "3                            Yes                       No      6  \n",
       "4                            Yes                       No      6  \n",
       "5                            Yes                       No      5  \n",
       "6                            Yes                       No      5  \n",
       "7                            Yes                       No      5  \n",
       "8                            Yes                       No      5  \n",
       "9                            Yes                       No      5  "
      ]
     },
     "execution_count": 49,
     "metadata": {},
     "output_type": "execute_result"
    }
   ],
   "source": [
    "pdData = top_ten_fam.toPandas()\n",
    "\n",
    "filter_item = pdData[(pdData.new_telephoneInHousehold == \"No\") & (pdData.new_AccessToTelephoneElsewhere == \"Yes\") & (pdData.new_acceptableTelephoneInterview == \"Yes\")]\n",
    "filter_item.head(10)"
   ]
  },
  {
   "cell_type": "markdown",
   "id": "8fd26527",
   "metadata": {},
   "source": [
    "## Question 4\n",
    "### How many responders can access to a telephone, but telephone interview is not accepted (show top 10)?"
   ]
  },
  {
   "cell_type": "code",
   "execution_count": 50,
   "id": "b5bebc9b",
   "metadata": {},
   "outputs": [
    {
     "name": "stdout",
     "output_type": "stream",
     "text": [
      "+--------------------+------------------------+------------------------------+--------------------------------+\n",
      "|         householdId|new_telephoneInHousehold|new_AccessToTelephoneElsewhere|new_acceptableTelephoneInterview|\n",
      "+--------------------+------------------------+------------------------------+--------------------------------+\n",
      "|00000479511071906011|                     Yes|                not_applicable|                             Yes|\n",
      "|00000479511071906011|                     Yes|                not_applicable|                             Yes|\n",
      "|00007169100494106111|                     Yes|                not_applicable|                             Yes|\n",
      "|00007169100494106111|                     Yes|                not_applicable|                             Yes|\n",
      "|00007169100494106111|                     Yes|                not_applicable|                             Yes|\n",
      "|00011017798798608011|                     Yes|                not_applicable|                             Yes|\n",
      "|00011017798798608011|                     Yes|                not_applicable|                             Yes|\n",
      "|00011020659338108011|          not_applicable|                not_applicable|                  not_applicable|\n",
      "|00011028481568008111|                     Yes|                not_applicable|                             Yes|\n",
      "|00011032785646906111|                     Yes|                not_applicable|                             Yes|\n",
      "+--------------------+------------------------+------------------------------+--------------------------------+\n",
      "only showing top 10 rows\n",
      "\n"
     ]
    }
   ],
   "source": [
    "question4 = new_ddf.select(\"householdId\", \"new_telephoneInHousehold\", \"new_AccessToTelephoneElsewhere\", \"new_acceptableTelephoneInterview\")\n",
    "question4.show(10)"
   ]
  },
  {
   "cell_type": "code",
   "execution_count": 58,
   "id": "f9da3a55",
   "metadata": {},
   "outputs": [
    {
     "name": "stderr",
     "output_type": "stream",
     "text": [
      "[Stage 80:===========================================>              (3 + 1) / 4]\r"
     ]
    },
    {
     "name": "stdout",
     "output_type": "stream",
     "text": [
      "+--------------------+------------------------+--------------------------------+------------------------------+-----+\n",
      "|         householdId|new_telephoneInHousehold|new_acceptableTelephoneInterview|new_AccessToTelephoneElsewhere|count|\n",
      "+--------------------+------------------------+--------------------------------+------------------------------+-----+\n",
      "|17136002800228507011|                     Yes|                             Yes|                not_applicable|   14|\n",
      "|65495620125100906011|                     Yes|                  not_applicable|                           Yes|   13|\n",
      "|01051409682959106011|                     Yes|                  not_applicable|                not_applicable|   12|\n",
      "|16002611040711006011|                     Yes|                             Yes|                not_applicable|   12|\n",
      "|78548093966100306011|                     Yes|                  not_applicable|                not_applicable|   12|\n",
      "|05031242797854106011|                     Yes|                  not_applicable|                not_applicable|   12|\n",
      "|41020360025347607011|                     Yes|                             Yes|                not_applicable|   12|\n",
      "|20061136481416406011|                     Yes|                             Yes|                not_applicable|   12|\n",
      "|20072071503769007011|                     Yes|                             Yes|                not_applicable|   11|\n",
      "|10110356331083807011|                     Yes|                             Yes|                not_applicable|   11|\n",
      "+--------------------+------------------------+--------------------------------+------------------------------+-----+\n",
      "only showing top 10 rows\n",
      "\n"
     ]
    },
    {
     "name": "stderr",
     "output_type": "stream",
     "text": [
      "\r",
      "                                                                                \r"
     ]
    }
   ],
   "source": [
    "resp_no_access_phone2 = question4.filter((question4.new_telephoneInHousehold == \"Yes\") |\n",
    "                                        (question4.new_AccessToTelephoneElsewhere == \"Yes\") &\n",
    "                                        (question4.new_acceptableTelephoneInterview == \"No\"))\n",
    "\n",
    "\n",
    "resp_no_access_phone2 = resp_no_access_phone2.groupBy(\"householdId\",\n",
    "                                         \"new_telephoneInHousehold\",\n",
    "                                         \"new_acceptableTelephoneInterview\",             \n",
    "                                         \"new_AccessToTelephoneElsewhere\").count()\n",
    "\n",
    "top_ten_fam = resp_no_access_phone2.sort(col(\"count\").desc()).show(10)"
   ]
  },
  {
   "cell_type": "markdown",
   "id": "398f4bf4",
   "metadata": {},
   "source": [
    "***                                             THE END                                                         ***"
   ]
  }
 ],
 "metadata": {
  "kernelspec": {
   "display_name": "Python 3 (ipykernel)",
   "language": "python",
   "name": "python3"
  },
  "language_info": {
   "codemirror_mode": {
    "name": "ipython",
    "version": 3
   },
   "file_extension": ".py",
   "mimetype": "text/x-python",
   "name": "python",
   "nbconvert_exporter": "python",
   "pygments_lexer": "ipython3",
   "version": "3.8.10"
  }
 },
 "nbformat": 4,
 "nbformat_minor": 5
}
